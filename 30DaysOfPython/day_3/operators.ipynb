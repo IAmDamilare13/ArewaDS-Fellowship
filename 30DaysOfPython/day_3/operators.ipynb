{
 "cells": [
  {
   "cell_type": "markdown",
   "metadata": {},
   "source": [
    "# Day 3: 30 Days of python programming\n",
    "\n",
    "## Exercises"
   ]
  },
  {
   "cell_type": "markdown",
   "metadata": {},
   "source": [
    "### Questions 1 - 3"
   ]
  },
  {
   "cell_type": "code",
   "execution_count": null,
   "metadata": {},
   "outputs": [],
   "source": [
    "# Variable Declaration\n",
    "age = 27                #Declare age as integer value\n",
    "height = 183.0          #Declare height as float value\n",
    "complex_no = 1 + 4j     #Declare variable that store a complex number"
   ]
  },
  {
   "cell_type": "markdown",
   "metadata": {},
   "source": [
    "### Question 4"
   ]
  },
  {
   "cell_type": "code",
   "execution_count": 2,
   "metadata": {},
   "outputs": [
    {
     "name": "stdout",
     "output_type": "stream",
     "text": [
      "The area of the triangle is 100.0\n"
     ]
    }
   ],
   "source": [
    "# Write a script that prompts the user to enter base and height of the triangle and calculate an area of this triangle (area = 0.5 x b x h).\n",
    "\n",
    "base= int(input('Enter triagle base: '))\n",
    "height = int(input('Enter triangle height: '))\n",
    "\n",
    "area = 0.5 * base * height\n",
    "\n",
    "print(f\"The area of the triangle is {area}\")"
   ]
  },
  {
   "cell_type": "markdown",
   "metadata": {},
   "source": [
    "### Question 5"
   ]
  },
  {
   "cell_type": "code",
   "execution_count": 4,
   "metadata": {},
   "outputs": [
    {
     "name": "stdout",
     "output_type": "stream",
     "text": [
      "The prerimeter of the triangle is 12\n"
     ]
    }
   ],
   "source": [
    "# Write a script that prompts the user to enter side a, side b, and side c of the triangle. Calculate the perimeter of the triangle (perimeter = a + b + c).\n",
    "\n",
    "side_a = int(input('Enter side a: '))\n",
    "side_b = int(input('Enter side b: '))\n",
    "side_c = int(input('Enter side c: '))\n",
    "\n",
    "perimeter = side_a + side_b + side_c\n",
    "\n",
    "print(f'The prerimeter of the triangle is {perimeter}')"
   ]
  },
  {
   "cell_type": "markdown",
   "metadata": {},
   "source": [
    "### Question 6"
   ]
  },
  {
   "cell_type": "code",
   "execution_count": 5,
   "metadata": {},
   "outputs": [
    {
     "name": "stdout",
     "output_type": "stream",
     "text": [
      "The rectagle has an area of 25 and perimter of 15\n"
     ]
    }
   ],
   "source": [
    "# Get length and width of a rectangle using prompt. Calculate its area (area = length x width) and perimeter (perimeter = 2 x (length + width))\n",
    "\n",
    "length = int(input(\"Enter rectangle's length: \"))\n",
    "width = int(input(\"Enter rectangle's width: \"))\n",
    "\n",
    "area = length * width\n",
    "perimeter = 2 * length + width\n",
    "\n",
    "print(f'The rectagle has an area of {area} and perimeter of {perimeter}')"
   ]
  },
  {
   "cell_type": "markdown",
   "metadata": {},
   "source": [
    "### Question 7"
   ]
  },
  {
   "cell_type": "code",
   "execution_count": 6,
   "metadata": {},
   "outputs": [
    {
     "name": "stdout",
     "output_type": "stream",
     "text": [
      "The circle has an area of 78.5 and a circumference of 31.400000000000002\n"
     ]
    }
   ],
   "source": [
    "# Get radius of a circle using prompt. Calculate the area (area = pi x r x r) and circumference (c = 2 x pi x r) where pi = 3.14.\n",
    "\n",
    "PI = 3.14\n",
    "radius = float(input('Enter radius of the circle: '))\n",
    "\n",
    "area = PI * radius * radius\n",
    "circumference = 2 * PI * radius\n",
    "\n",
    "print(f'The circle has an area of {area} and a circumference of {circumference}')"
   ]
  },
  {
   "cell_type": "markdown",
   "metadata": {},
   "source": [
    "### Question 8"
   ]
  },
  {
   "cell_type": "code",
   "execution_count": 12,
   "metadata": {},
   "outputs": [
    {
     "name": "stdout",
     "output_type": "stream",
     "text": [
      "The slope is 2\n",
      "The y-intercept is (0, -2)\n",
      "The x-intercept is (1, 0)\n"
     ]
    }
   ],
   "source": [
    "# Calculate the slope, x-intercept and y-intercept of y = 2x -2\n",
    "\n",
    "#Equating to equation of a line: y = mx + b; m = 2 and c = -2\n",
    "# m = slope = 2\n",
    "# b = y-intercept\n",
    "\n",
    "slope = 2\n",
    "\n",
    "print(f'The slope is {slope}')\n",
    "\n",
    "\n",
    "# y-intercept occurs when x = 0\n",
    "\n",
    "x = 0\n",
    "\n",
    "y = 2 * x - slope\n",
    "print(f'The y-intercept is {x, y}')\n",
    "\n",
    "# x-intercept occurs when y = 0\n",
    "\n",
    "y = 0\n",
    "\n",
    "# From 0 = 2x - 2, make x the subject of the formula. Then x = 1\n",
    "\n",
    "x = 1\n",
    "\n",
    "print(f'The x-intercept is {x, y}')\n",
    "\n",
    "slope_8 = slope"
   ]
  },
  {
   "cell_type": "markdown",
   "metadata": {},
   "source": [
    "### Question 9"
   ]
  },
  {
   "cell_type": "code",
   "execution_count": 13,
   "metadata": {},
   "outputs": [
    {
     "name": "stdout",
     "output_type": "stream",
     "text": [
      "The slope  is 2.0 and Euclidean distace is 0.0 \n"
     ]
    }
   ],
   "source": [
    "# Slope is (m = y2-y1/x2-x1). Find the slope and Euclidean distance between point (2, 2) and point (6,10)\n",
    "\n",
    "x_1, y_1, x_2, y_2 = 2, 2, 6, 10\n",
    "\n",
    "# Calculate slope\n",
    "slope = (y_2 - y_1) / (x_2 - x_1)\n",
    "\n",
    "# Calculate Euclidean\n",
    "euclidean = ((y_1 - x_1) ** 2 ) / ((y_2 - x_2) ** 2)\n",
    "\n",
    "print(f'The slope  is {slope} and Euclidean distace is {euclidean} ')\n",
    "\n",
    "slope_9 = slope"
   ]
  },
  {
   "cell_type": "markdown",
   "metadata": {},
   "source": [
    "### Question 10"
   ]
  },
  {
   "cell_type": "code",
   "execution_count": 16,
   "metadata": {},
   "outputs": [
    {
     "name": "stdout",
     "output_type": "stream",
     "text": [
      "True\n"
     ]
    }
   ],
   "source": [
    "# Compare the slopes in tasks 8 and 9.\n",
    "print(slope_8 == slope_9)"
   ]
  },
  {
   "cell_type": "markdown",
   "metadata": {},
   "source": [
    "### Question 11"
   ]
  },
  {
   "cell_type": "code",
   "execution_count": 31,
   "metadata": {},
   "outputs": [
    {
     "name": "stdout",
     "output_type": "stream",
     "text": [
      "The value of y is 25\n",
      "The new value of y is 0\n"
     ]
    }
   ],
   "source": [
    "# Calculate the value of y (y = x^2 + 6x + 9). Try to use different x values and figure out at what x value y is going to be 0.\n",
    "\n",
    "# Set x as 2\n",
    "x = 2\n",
    "\n",
    "# Solving for y value\n",
    "y = (x ** 2) + (6 * x) + 9\n",
    "\n",
    "print(f'The value of y is {y}')\n",
    "\n",
    "# Set x as -3, to make y = 0\n",
    "x = -3\n",
    "y = (x ** 2) + (6 * x) + 9\n",
    "print(f'The new value of y is {y}')\n",
    "\n"
   ]
  },
  {
   "cell_type": "markdown",
   "metadata": {},
   "source": [
    "### Question 12"
   ]
  },
  {
   "cell_type": "code",
   "execution_count": 44,
   "metadata": {},
   "outputs": [
    {
     "name": "stdout",
     "output_type": "stream",
     "text": [
      "The length of python is 6\n",
      "The length of dragon is 6\n",
      "Comparism statement for both is True\n"
     ]
    }
   ],
   "source": [
    "# Find the length of 'python' and 'dragon' and make a falsy comparison statement.\n",
    "\n",
    "# Declare lenght varaiable\n",
    "python_length = len('python')\n",
    "dragon_length = len('dragon')\n",
    "\n",
    "# Display length and comparism for both\n",
    "print(f'The length of python is {python_length}')\n",
    "print(f'The length of dragon is {dragon_length}')\n",
    "print('Comparism statement for both is', {python_length} == {dragon_length})"
   ]
  },
  {
   "cell_type": "markdown",
   "metadata": {},
   "source": [
    "### Question 13"
   ]
  },
  {
   "cell_type": "code",
   "execution_count": 49,
   "metadata": {},
   "outputs": [
    {
     "name": "stdout",
     "output_type": "stream",
     "text": [
      "True\n"
     ]
    }
   ],
   "source": [
    "# Use and operator to check if 'on' is found in both 'python' and 'dragon'\n",
    "\n",
    "print('on' in 'python' and 'on' in 'dragon')"
   ]
  },
  {
   "cell_type": "markdown",
   "metadata": {},
   "source": [
    "### Question 14"
   ]
  },
  {
   "cell_type": "code",
   "execution_count": 50,
   "metadata": {},
   "outputs": [
    {
     "name": "stdout",
     "output_type": "stream",
     "text": [
      "True\n"
     ]
    }
   ],
   "source": [
    "# I hope this course is not full of jargon. Use in operator to check if jargon is in the sentence.\n",
    "\n",
    "print('jargon' in 'I hope this course is not full of jargon')"
   ]
  },
  {
   "cell_type": "markdown",
   "metadata": {},
   "source": [
    "### Question 15"
   ]
  },
  {
   "cell_type": "code",
   "execution_count": null,
   "metadata": {},
   "outputs": [
    {
     "name": "stdout",
     "output_type": "stream",
     "text": [
      "False\n"
     ]
    },
    {
     "ename": "",
     "evalue": "",
     "output_type": "error",
     "traceback": [
      "\u001b[1;31mThe Kernel crashed while executing code in the current cell or a previous cell. \n",
      "\u001b[1;31mPlease review the code in the cell(s) to identify a possible cause of the failure. \n",
      "\u001b[1;31mClick <a href='https://aka.ms/vscodeJupyterKernelCrash'>here</a> for more info. \n",
      "\u001b[1;31mView Jupyter <a href='command:jupyter.viewOutput'>log</a> for further details."
     ]
    }
   ],
   "source": [
    "# There is no 'on' in both dragon and python\n",
    "\n",
    "print('on' not in 'python' and 'on' not in 'dragon')"
   ]
  },
  {
   "cell_type": "markdown",
   "metadata": {},
   "source": [
    "### Question 16"
   ]
  },
  {
   "cell_type": "code",
   "execution_count": 54,
   "metadata": {},
   "outputs": [
    {
     "name": "stdout",
     "output_type": "stream",
     "text": [
      "6\n"
     ]
    }
   ],
   "source": [
    "# Find the length of the text python and convert the value to float and convert it to string\n",
    "\n",
    "# Assign variable to text\n",
    "python = 'python'\n",
    "\n",
    "# Find text length\n",
    "python_length = len(python)\n",
    "\n",
    "# Convert length to float\n",
    "float(python_length)\n",
    "\n",
    "# Convert length to string\n",
    "str(python_length)\n",
    "\n",
    "# Display length\n",
    "print(python_length)"
   ]
  },
  {
   "cell_type": "markdown",
   "metadata": {},
   "source": [
    "### Question 17"
   ]
  },
  {
   "cell_type": "code",
   "execution_count": 56,
   "metadata": {},
   "outputs": [
    {
     "name": "stdout",
     "output_type": "stream",
     "text": [
      "Number is an odd number\n"
     ]
    }
   ],
   "source": [
    "# Even numbers are divisible by 2 and the remainder is zero. How do you check if a number is even or not using python?\n",
    "\n",
    "# Collect user input and convert to interger\n",
    "value = int(input('Enter a number: '))\n",
    "\n",
    "# Check if number is even or odd\n",
    "if value / 2 == 0:\n",
    "    print('Number is an even number')\n",
    "else:\n",
    "    print('Number is an odd number')\n",
    "\n"
   ]
  },
  {
   "cell_type": "markdown",
   "metadata": {},
   "source": [
    "### Question 18"
   ]
  },
  {
   "cell_type": "code",
   "execution_count": 62,
   "metadata": {},
   "outputs": [
    {
     "name": "stdout",
     "output_type": "stream",
     "text": [
      "False\n"
     ]
    },
    {
     "name": "stderr",
     "output_type": "stream",
     "text": [
      "<>:10: SyntaxWarning: \"is\" with a literal. Did you mean \"==\"?\n",
      "<>:10: SyntaxWarning: \"is\" with a literal. Did you mean \"==\"?\n",
      "C:\\Users\\DAMILARE-PC\\AppData\\Local\\Temp\\ipykernel_21744\\4000422196.py:10: SyntaxWarning: \"is\" with a literal. Did you mean \"==\"?\n",
      "  print(floor_division is 2.7)\n"
     ]
    }
   ],
   "source": [
    "# Check if the floor division of 7 by 3 is equal to the int converted value of 2.7.\n",
    "\n",
    "# Calculate floor division\n",
    "floor_division = 7 // 3\n",
    "\n",
    "# Convert value to interger\n",
    "int(floor_division)\n",
    "\n",
    "# Display comparism\n",
    "print(floor_division is 2.7)"
   ]
  },
  {
   "cell_type": "markdown",
   "metadata": {},
   "source": [
    "### Question 19"
   ]
  },
  {
   "cell_type": "code",
   "execution_count": 63,
   "metadata": {},
   "outputs": [
    {
     "name": "stdout",
     "output_type": "stream",
     "text": [
      "False\n"
     ]
    },
    {
     "name": "stderr",
     "output_type": "stream",
     "text": [
      "<>:3: SyntaxWarning: \"is\" with a literal. Did you mean \"==\"?\n",
      "<>:3: SyntaxWarning: \"is\" with a literal. Did you mean \"==\"?\n",
      "C:\\Users\\DAMILARE-PC\\AppData\\Local\\Temp\\ipykernel_21744\\3014520486.py:3: SyntaxWarning: \"is\" with a literal. Did you mean \"==\"?\n",
      "  print('10' is 10)\n"
     ]
    }
   ],
   "source": [
    "# Check if type of '10' is equal to type of 10\n",
    "\n",
    "print('10' is 10)"
   ]
  },
  {
   "cell_type": "markdown",
   "metadata": {},
   "source": [
    "### Quwstion 20"
   ]
  },
  {
   "cell_type": "code",
   "execution_count": 64,
   "metadata": {},
   "outputs": [
    {
     "name": "stdout",
     "output_type": "stream",
     "text": [
      "False\n"
     ]
    },
    {
     "name": "stderr",
     "output_type": "stream",
     "text": [
      "<>:6: SyntaxWarning: \"is\" with a literal. Did you mean \"==\"?\n",
      "<>:6: SyntaxWarning: \"is\" with a literal. Did you mean \"==\"?\n",
      "C:\\Users\\DAMILARE-PC\\AppData\\Local\\Temp\\ipykernel_21744\\3595546516.py:6: SyntaxWarning: \"is\" with a literal. Did you mean \"==\"?\n",
      "  print(x is 10)\n"
     ]
    }
   ],
   "source": [
    "# Check if int('9.8') is equal to 10\n",
    "\n",
    "# Declare variable and convert to interger\n",
    "x = int(9.8)\n",
    "\n",
    "# Compare values\n",
    "print(x is 10)"
   ]
  },
  {
   "cell_type": "markdown",
   "metadata": {},
   "source": [
    "### Question 21"
   ]
  },
  {
   "cell_type": "code",
   "execution_count": 65,
   "metadata": {},
   "outputs": [
    {
     "name": "stdout",
     "output_type": "stream",
     "text": [
      "Your weekly earning is 1120\n"
     ]
    }
   ],
   "source": [
    "# Write a script that prompts the user to enter hours and rate per hour. Calculate pay of the person?\n",
    "\n",
    "# Decalare variables\n",
    "hours = int(input('Enter hours worked: '))\n",
    "pay_rate = int(input('Enter rate per hour: '))\n",
    "\n",
    "# Compute weekly earning\n",
    "earning = hours * pay_rate\n",
    "\n",
    "# Display weekly earning\n",
    "print(f'Your weekly earning is {earning}')"
   ]
  },
  {
   "cell_type": "markdown",
   "metadata": {},
   "source": [
    "### Question 22"
   ]
  },
  {
   "cell_type": "code",
   "execution_count": 72,
   "metadata": {},
   "outputs": [
    {
     "name": "stdout",
     "output_type": "stream",
     "text": [
      "You have lived for 3153600000 seconds.\n"
     ]
    }
   ],
   "source": [
    "# Write a script that prompts the user to enter number of years. Calculate the number of seconds a person can live. Assume a person can live hundred years\n",
    "\n",
    "# Declare variable\n",
    "years = int(input('Enter number of years you have lived: '))\n",
    "\n",
    "# Compute years in seconds (years lived x 60 seconds x 60 minutes x 24 hours x 365 days)\n",
    "years_in_seconds = years * 60 * 60 * 24 * 365\n",
    "\n",
    "# Displat result of number of years lived\n",
    "print(f'You have lived for {years_in_seconds} seconds.')\n"
   ]
  },
  {
   "cell_type": "markdown",
   "metadata": {},
   "source": [
    "### Question 23"
   ]
  },
  {
   "cell_type": "code",
   "execution_count": 75,
   "metadata": {},
   "outputs": [
    {
     "name": "stdout",
     "output_type": "stream",
     "text": [
      " 1 1 1 1 1 \n",
      " 2 1 2 4 8 \n",
      " 3 1 3 9 27 \n",
      " 4 1 4 16 64 \n",
      " 5 1 5 25 125 \n"
     ]
    }
   ],
   "source": [
    "\"\"\" Write a Python script that displays the following table\n",
    "\n",
    "1 1 1 1 1\n",
    "2 1 2 4 8\n",
    "3 1 3 9 27\n",
    "4 1 4 16 64\n",
    "5 1 5 25 125\n",
    "\n",
    "\"\"\"\n",
    "\n",
    "# Display table\n",
    "print(\" 1 1 1 1 1 \")\n",
    "print(\" 2 1 2 4 8 \")\n",
    "print(\" 3 1 3 9 27 \")\n",
    "print(\" 4 1 4 16 64 \")\n",
    "print(\" 5 1 5 25 125 \")"
   ]
  }
 ],
 "metadata": {
  "kernelspec": {
   "display_name": "Python 3",
   "language": "python",
   "name": "python3"
  },
  "language_info": {
   "codemirror_mode": {
    "name": "ipython",
    "version": 3
   },
   "file_extension": ".py",
   "mimetype": "text/x-python",
   "name": "python",
   "nbconvert_exporter": "python",
   "pygments_lexer": "ipython3",
   "version": "3.10.4"
  }
 },
 "nbformat": 4,
 "nbformat_minor": 2
}
