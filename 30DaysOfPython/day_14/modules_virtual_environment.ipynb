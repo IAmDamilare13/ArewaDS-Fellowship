{
 "cells": [
  {
   "cell_type": "markdown",
   "metadata": {
    "vscode": {
     "languageId": "plaintext"
    }
   },
   "source": [
    "# Day 14: 30 Days of python programming\n",
    "\n",
    "## Modules and Virtual Environment\n",
    "\n",
    "### Exercises: Level 1"
   ]
  },
  {
   "cell_type": "code",
   "execution_count": 4,
   "metadata": {},
   "outputs": [
    {
     "name": "stdout",
     "output_type": "stream",
     "text": [
      "eu1AMO\n",
      "m1VQ8\n",
      "kJ6pU\n",
      "8nSTX\n",
      "VuJ8n\n",
      "V2gzA\n",
      "None\n",
      "(13, 148, 64)\n"
     ]
    }
   ],
   "source": [
    "# Q1: Write a function which generates a six digit/character random_user_id\n",
    "\n",
    "import random\n",
    "import string\n",
    "\n",
    "def random_user_id():\n",
    "    return ''.join(random.choices(string.ascii_letters + string.digits, k=6))\n",
    "print(random_user_id())\n",
    "\n",
    "# Q2: Modify the previous task. Declare a function named user_id_gen_by_user. It doesn’t take any parameters but it takes two inputs using input(). One of the inputs is the number of characters and the second input is the number of IDs which are supposed to be generated.\n",
    "\n",
    "def user_id_gen_by_user():\n",
    "    chars = int(input(\"Enter the number of characters: \"))\n",
    "    ids = int(input(\"Enter the number of IDs: \"))\n",
    "    for i in range(ids):\n",
    "        print(''.join(random.choices(string.ascii_letters + string.digits, k=chars)))\n",
    "print(user_id_gen_by_user())\n",
    "\n",
    "# Q3: Write a function named rgb_color_gen. It will generate rgb colors (3 values ranging from 0 to 255 each).\n",
    "\n",
    "def rgb_color_gen():\n",
    "    return tuple(random.randint(0, 255) for _ in range(3))\n",
    "\n",
    "print(rgb_color_gen())\n"
   ]
  },
  {
   "cell_type": "markdown",
   "metadata": {},
   "source": [
    "### Exercises: Level 2"
   ]
  },
  {
   "cell_type": "code",
   "execution_count": 5,
   "metadata": {},
   "outputs": [
    {
     "name": "stdout",
     "output_type": "stream",
     "text": [
      "['#C183FE', '#aF8d5A', '#AE2D16']\n",
      "[(34, 184, 200), (64, 101, 103), (167, 136, 235)]\n",
      "['#bBFDB1', '#9d0cdE', '#BBAaD9']\n"
     ]
    }
   ],
   "source": [
    "# Q1: Write a function list_of_hexa_colors which returns any number of hexadecimal colors in an array (six hexadecimal numbers written after #. Hexadecimal numeral system is made out of 16 symbols, 0-9 and first 6 letters of the alphabet, a-f. Check the task 6 for output examples).\n",
    "\n",
    "def list_of_hexa_colors(n):\n",
    "    return ['#' + ''.join(random.choices(string.hexdigits, k=6)) for _ in range(n)]\n",
    "\n",
    "print(list_of_hexa_colors(3))\n",
    "\n",
    "# Q2: Write a function list_of_rgb_colors which returns any number of RGB colors in an array.\n",
    "\n",
    "def list_of_rgb_colors(n):\n",
    "    return [rgb_color_gen() for _ in range(n)]\n",
    "\n",
    "print(list_of_rgb_colors(3))\n",
    "\n",
    "# Q3: Write a function generate_colors which can generate any number of hexa or rgb colors.\n",
    "\n",
    "def generate_colors(n, type='hexa'):\n",
    "    if type == 'hexa':\n",
    "        return list_of_hexa_colors(n)\n",
    "    elif type == 'rgb':\n",
    "        return list_of_rgb_colors(n)\n",
    "    else:\n",
    "        return 'Invalid type'\n",
    "print(generate_colors(3, 'hexa'))\n",
    "\n"
   ]
  },
  {
   "cell_type": "markdown",
   "metadata": {},
   "source": [
    "### Exercises: Level 3"
   ]
  },
  {
   "cell_type": "code",
   "execution_count": 6,
   "metadata": {},
   "outputs": [
    {
     "name": "stdout",
     "output_type": "stream",
     "text": [
      "[1, 5, 2, 3, 4]\n",
      "[5, 0, 6, 7, 2, 3, 8]\n"
     ]
    }
   ],
   "source": [
    "# Q1: Call your function shuffle_list, it takes a list as a parameter and it returns a shuffled list\n",
    "\n",
    "def shuffle_list(lst):\n",
    "    random.shuffle(lst)\n",
    "    return lst\n",
    "\n",
    "print(shuffle_list([1, 2, 3, 4, 5]))\n",
    "\n",
    "# Q2: Write a function which returns an array of seven random numbers in a range of 0-9. All the numbers must be unique.\n",
    "\n",
    "def seven_random_numbers():\n",
    "    return random.sample(range(10), 7)\n",
    "\n",
    "print(seven_random_numbers())"
   ]
  }
 ],
 "metadata": {
  "kernelspec": {
   "display_name": "Python 3",
   "language": "python",
   "name": "python3"
  },
  "language_info": {
   "codemirror_mode": {
    "name": "ipython",
    "version": 3
   },
   "file_extension": ".py",
   "mimetype": "text/x-python",
   "name": "python",
   "nbconvert_exporter": "python",
   "pygments_lexer": "ipython3",
   "version": "3.10.4"
  }
 },
 "nbformat": 4,
 "nbformat_minor": 2
}
