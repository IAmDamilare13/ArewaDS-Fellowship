{
 "cells": [
  {
   "cell_type": "markdown",
   "metadata": {},
   "source": [
    "# Day 6: 30 Days of python programming\n",
    "\n",
    "## Exercises\n",
    "\n",
    "### Questions 1 - 11"
   ]
  },
  {
   "cell_type": "code",
   "execution_count": 17,
   "metadata": {},
   "outputs": [
    {
     "name": "stdout",
     "output_type": "stream",
     "text": [
      "{'name': 'Bingo', 'color': 'Brown', 'breed': 'Unknown', 'age': 5}\n",
      "The dictionary has a length of 9.\n",
      "['HTML', 'CSS', 'Python', 'Java']\n",
      "{'first_name': 'Damilare', 'last_name': 'Daramola', 'gender': 'Male', 'age': 200, 'marital_status': 'Single', 'skills': ['HTML', 'CSS', 'Python', 'Java', 'Wix', 'C#'], 'country': 'Nigeria', 'city': 'Akure', 'address': 'House 777, Akure Road'}\n",
      "dict_keys(['first_name', 'last_name', 'gender', 'age', 'marital_status', 'skills', 'country', 'city', 'address'])\n",
      "dict_values(['Damilare', 'Daramola', 'Male', 200, 'Single', ['HTML', 'CSS', 'Python', 'Java', 'Wix', 'C#'], 'Nigeria', 'Akure', 'House 777, Akure Road'])\n",
      "dict_items([('first_name', 'Damilare'), ('last_name', 'Daramola'), ('gender', 'Male'), ('age', 200), ('marital_status', 'Single'), ('skills', ['HTML', 'CSS', 'Python', 'Java', 'Wix', 'C#']), ('country', 'Nigeria'), ('city', 'Akure'), ('address', 'House 777, Akure Road')])\n",
      "{'first_name': 'Damilare', 'last_name': 'Daramola', 'gender': 'Male', 'marital_status': 'Single', 'skills': ['HTML', 'CSS', 'Python', 'Java', 'Wix', 'C#'], 'country': 'Nigeria', 'city': 'Akure', 'address': 'House 777, Akure Road'}\n"
     ]
    },
    {
     "ename": "NameError",
     "evalue": "name 'student' is not defined",
     "output_type": "error",
     "traceback": [
      "\u001b[1;31m---------------------------------------------------------------------------\u001b[0m",
      "\u001b[1;31mNameError\u001b[0m                                 Traceback (most recent call last)",
      "Cell \u001b[1;32mIn[17], line 52\u001b[0m\n\u001b[0;32m     50\u001b[0m \u001b[38;5;66;03m# Q11: Delete the dictionaries\u001b[39;00m\n\u001b[0;32m     51\u001b[0m \u001b[38;5;28;01mdel\u001b[39;00m student\n\u001b[1;32m---> 52\u001b[0m \u001b[43mstudent\u001b[49m\n",
      "\u001b[1;31mNameError\u001b[0m: name 'student' is not defined"
     ]
    }
   ],
   "source": [
    "# Q1: Create an empty dictionary called dog\n",
    "dog = {}\n",
    "\n",
    "# Q2: Add name, color, breed, legs, age to the dog dictionary\n",
    "dog['name'] = 'Bingo'           # Add dog name\n",
    "dog['color'] = 'Brown'          # Add dog color\n",
    "dog['breed'] = 'Unknown'        # Add dog breed\n",
    "dog['age'] = 5                  # Add dog age\n",
    "print(dog)                      # Display updated dictionary\n",
    "\n",
    "# Q3: Create a student dictionary and add first_name, last_name, gender, age, marital status, skills, country, city and address as keys for the dictionary\n",
    "student = {\n",
    "    'first_name' : 'Damilare',\n",
    "    'last_name' : 'Daramola',\n",
    "    'gender' : 'Male',\n",
    "    'age' : 200,\n",
    "    'marital_status' : 'Single',\n",
    "    'skills' : ['HTML', 'CSS', 'Python', 'Java'],\n",
    "    'country' : 'Nigeria',\n",
    "    'city' : 'Akure',\n",
    "    'address' : 'House 777, Akure Road'\n",
    "}\n",
    "\n",
    "# Q4: Get the length of the student dictionary\n",
    "print(f'The dictionary has a length of {len(student)}.')\n",
    "\n",
    "# Q5: Get the value of skills and check the data type, it should be a list\n",
    "skills = student['skills']      # Calling out skills from dictionary\n",
    "print(skills)                   # Display values in the key\n",
    "type(skills)                    # Checking the data type\n",
    "\n",
    "# Q6: Modify the skills values by adding one or two skills\n",
    "student['skills'].append('Wix')     # Add a skill to the existing skills\n",
    "student['skills'].append('C#')      # Add another skills to the list\n",
    "print(student)\n",
    "\n",
    "# Q7: Get the dictionary keys as a list\n",
    "print(student.keys())               # Display eack keys in the dictionary\n",
    "\n",
    "# Q8: Get the dictionary values as a list\n",
    "print(student.values())             # Display individual values in the dictionary\n",
    "\n",
    "# Q9: Change the dictionary to a list of tuples using items() method\n",
    "print(student.items())              # Convert dictionary to a list of tuples\n",
    "\n",
    "# Q10: Delete one of the items in the dictionary\n",
    "student.pop('age')                  # Delete the age item\n",
    "print(student)                      # Display updated dictionary\n",
    "\n",
    "# Q11: Delete the dictionaries\n",
    "del student\n",
    "student"
   ]
  },
  {
   "cell_type": "code",
   "execution_count": null,
   "metadata": {},
   "outputs": [],
   "source": []
  }
 ],
 "metadata": {
  "kernelspec": {
   "display_name": "Python 3",
   "language": "python",
   "name": "python3"
  },
  "language_info": {
   "codemirror_mode": {
    "name": "ipython",
    "version": 3
   },
   "file_extension": ".py",
   "mimetype": "text/x-python",
   "name": "python",
   "nbconvert_exporter": "python",
   "pygments_lexer": "ipython3",
   "version": "3.10.4"
  }
 },
 "nbformat": 4,
 "nbformat_minor": 2
}
