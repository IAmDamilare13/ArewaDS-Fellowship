{
 "cells": [
  {
   "cell_type": "markdown",
   "metadata": {},
   "source": [
    "# Day 12: 30 Days of python programming\n",
    "\n",
    "## Exercises\n",
    "\n",
    "### Level 1"
   ]
  },
  {
   "cell_type": "code",
   "execution_count": null,
   "metadata": {},
   "outputs": [
    {
     "name": "stdout",
     "output_type": "stream",
     "text": [
      "love\n"
     ]
    }
   ],
   "source": [
    "# Question 1: What is the most frequent word in the following paragraph?\n",
    "\n",
    "import re\n",
    "\n",
    "paragraph = 'I love teaching. If you do not love teaching what else can you love. I love Python if you do not love something which can give you all the capabilities to develop an application what else can you love.'\n",
    "\n",
    "# Clean the paragraph by removing punctuation and converting to lowercase\n",
    "clean_paragraph = re.sub(r'[^\\w\\s]', '', paragraph).lower()\n",
    "\n",
    "# Split the paragraph into words\n",
    "words = clean_paragraph.split()\n",
    "\n",
    "# Count the frequency of each word\n",
    "word_freq = pd.Series(words).value_counts()\n",
    "\n",
    "# Get the most frequent word\n",
    "most_frequent_word = word_freq.idxmax()\n",
    "print(most_frequent_word)\n",
    "\n"
   ]
  },
  {
   "cell_type": "code",
   "execution_count": 20,
   "metadata": {},
   "outputs": [
    {
     "name": "stdout",
     "output_type": "stream",
     "text": [
      "[-12, -4, -3, -1, 0, 4, 8]\n",
      "20\n"
     ]
    }
   ],
   "source": [
    "# Q2: The position of some particles on the horizontal x-axis are -12, -4, -3 and -1 in the negative direction, 0 at origin, 4 and 8 in the positive direction. Extract these numbers from this whole text and find the distance between the two furthest particles.\n",
    "\n",
    "text = 'The position of some particles on the horizontal x-axis are -12, -4, -3 and -1 in the negative direction, 0 at origin, 4 and 8 in the positive direction.'\n",
    "\n",
    "# Extract numbers from the text\n",
    "numbers = list(map(int, re.findall(r'-?\\d+', text)))\n",
    "print(numbers)  # Output the extracted numbers\n",
    "\n",
    "# Find the distance between the furthest particles\n",
    "distance = max(numbers) - min(numbers)\n",
    "print(distance)  # Output the distance"
   ]
  },
  {
   "cell_type": "markdown",
   "metadata": {},
   "source": [
    "### Level 2"
   ]
  },
  {
   "cell_type": "code",
   "execution_count": 21,
   "metadata": {},
   "outputs": [
    {
     "name": "stdout",
     "output_type": "stream",
     "text": [
      "True\n",
      "False\n",
      "False\n",
      "True\n"
     ]
    }
   ],
   "source": [
    "# Q1: Write a pattern which identifies if a string is a valid python variable\n",
    "\n",
    "pattern = r'^[a-zA-Z_][a-zA-Z0-9_]*$'\n",
    "\n",
    "def is_valid_variable(variable):\n",
    "    return bool(re.match(pattern, variable))\n",
    "\n",
    "# Test the function\n",
    "print(is_valid_variable('first_name'))  # True\n",
    "print(is_valid_variable('first-name'))  # False\n",
    "print(is_valid_variable('1first_name')) # False\n",
    "print(is_valid_variable('firstname'))   # True"
   ]
  },
  {
   "cell_type": "markdown",
   "metadata": {},
   "source": [
    "### Level 3"
   ]
  },
  {
   "cell_type": "code",
   "execution_count": 22,
   "metadata": {},
   "outputs": [
    {
     "name": "stdout",
     "output_type": "stream",
     "text": [
      "I am a teacher and I love teaching There is nothing as more rewarding as educating and empowering people I found teaching more interesting than any other jobs Does this motivate you to be a teacher\n",
      "i       3\n",
      "more    2\n",
      "a       2\n",
      "Name: count, dtype: int64\n"
     ]
    }
   ],
   "source": [
    "# Clean the following text. After cleaning, count three most frequent words in the string. \n",
    "\n",
    "sentence = '''%I $am@% a %tea@cher%, &and& I lo%#ve %tea@ching%;. There $is nothing; &as& mo@re rewarding as educa@ting &and& @emp%o@wering peo@ple. ;I found tea@ching m%o@re interesting tha@n any other %jo@bs. %Do@es thi%s mo@tivate yo@u to be a tea@cher!?'''\n",
    "\n",
    "import pandas as pd\n",
    "\n",
    "clean_sentence = re.sub(r'[^\\w\\s]', '', sentence)  # Remove special characters\n",
    "words = clean_sentence.lower().split()  # Convert to lowercase and split into words\n",
    "word_freq = pd.Series(words).value_counts()  # Count word frequencies\n",
    "top_three_words = word_freq.head(3)  # Get the top three most frequent words\n",
    "print(clean_sentence)\n",
    "print(top_three_words)"
   ]
  }
 ],
 "metadata": {
  "kernelspec": {
   "display_name": "Python 3",
   "language": "python",
   "name": "python3"
  },
  "language_info": {
   "codemirror_mode": {
    "name": "ipython",
    "version": 3
   },
   "file_extension": ".py",
   "mimetype": "text/x-python",
   "name": "python",
   "nbconvert_exporter": "python",
   "pygments_lexer": "ipython3",
   "version": "3.10.4"
  }
 },
 "nbformat": 4,
 "nbformat_minor": 2
}
