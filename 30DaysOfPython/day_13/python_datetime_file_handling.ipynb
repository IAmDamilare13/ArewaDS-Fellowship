{
 "cells": [
  {
   "cell_type": "markdown",
   "metadata": {},
   "source": [
    "# Day 13: 30 Days of python programming\n",
    "\n",
    "## Exercises\n",
    "\n",
    "### Python Datetime Exercise"
   ]
  },
  {
   "cell_type": "code",
   "execution_count": 27,
   "metadata": {},
   "outputs": [
    {
     "name": "stdout",
     "output_type": "stream",
     "text": [
      "2025-01-01 19:38:47.863748\n",
      "01/01/2025, 19:38:47\n",
      "2019-12-05 00:00:00\n",
      "19:38:47.863748\n",
      "20089 days, 19:38:47.863748\n"
     ]
    },
    {
     "ename": "",
     "evalue": "",
     "output_type": "error",
     "traceback": [
      "\u001b[1;31mThe Kernel crashed while executing code in the current cell or a previous cell. \n",
      "\u001b[1;31mPlease review the code in the cell(s) to identify a possible cause of the failure. \n",
      "\u001b[1;31mClick <a href='https://aka.ms/vscodeJupyterKernelCrash'>here</a> for more info. \n",
      "\u001b[1;31mView Jupyter <a href='command:jupyter.viewOutput'>log</a> for further details."
     ]
    }
   ],
   "source": [
    "# Q1: Get the current day, month, year, hour, minute and timestamp from datetime module\n",
    "\n",
    "from datetime import datetime \n",
    "to_day = datetime.now()\n",
    "print(to_day)\n",
    "\n",
    "# Q2: Format the current date using this format: \"%m/%d/%Y, %H:%M:%S\")\n",
    "date_string = datetime.strftime(to_day, '%m/%m/%Y, %H:%M:%S')\n",
    "print(date_string)\n",
    "\n",
    "# Q3: Today is 5 December, 2019. Change this time string to time.\n",
    "given_date = '5 December, 2019'\n",
    "converted_date = datetime.strptime(given_date, '%d %B, %Y')\n",
    "print(converted_date)\n",
    "\n",
    "# Q4: Calculate the time difference between now and new year.\n",
    "new_year = datetime(2025, 1, 1)\n",
    "diff_in_time = datetime.now() - new_year\n",
    "print(diff_in_time)\n",
    "\n",
    "# Q5: Calculate the time difference between 1 January 1970 and now.\n",
    "current_time = datetime.now()\n",
    "given_date = '1 January 1970'\n",
    "given_date = datetime.strptime(given_date, '%d %B %Y')\n",
    "diff_in_time = current_time - given_date\n",
    "print(diff_in_time)"
   ]
  },
  {
   "cell_type": "markdown",
   "metadata": {},
   "source": [
    "### File Handling Exercise"
   ]
  },
  {
   "cell_type": "code",
   "execution_count": 16,
   "metadata": {},
   "outputs": [
    {
     "name": "stdout",
     "output_type": "stream",
     "text": [
      "Number of lines: 66\n",
      "Number of words: 2400\n"
     ]
    }
   ],
   "source": [
    "# Q1: Write a function which count number of lines and number of words in a text. All the files are in the data the folder: a) Read obama_speech.txt file and count number of lines and words b) Read michelle_obama_speech.txt file and count number of lines and words c) Read donald_speech.txt file and count number of lines and words d) Read melina_trump_speech.txt file and count number of lines and words\n",
    "\n",
    "# Create a function to count number of lines and words\n",
    "def count(lines):\n",
    "    num_lines = len(lines)  # Compute total lines\n",
    "    num_words = sum(len(line.split()) for line in lines) # Compute total words\n",
    "    return num_lines, num_words #Return total line and words\n",
    "\n",
    "# A: Obama Speech\n",
    "with open('../data/obama_speech.txt') as f: #  Open file\n",
    "    lines = f.read().splitlines()            # Identify each lines\n",
    "    num_lines, num_words = count(lines)      # Check and display total number of lines and words\n",
    "    print(f\"Number of lines: {num_lines}\")   # Display total number of lines\n",
    "    print(f\"Number of words: {num_words}\")   # Display total number of words\n",
    "\n",
    "# B. Michelle Obama Speech\n",
    "\n"
   ]
  },
  {
   "cell_type": "code",
   "execution_count": null,
   "metadata": {},
   "outputs": [],
   "source": []
  }
 ],
 "metadata": {
  "kernelspec": {
   "display_name": "Python 3",
   "language": "python",
   "name": "python3"
  },
  "language_info": {
   "codemirror_mode": {
    "name": "ipython",
    "version": 3
   },
   "file_extension": ".py",
   "mimetype": "text/x-python",
   "name": "python",
   "nbconvert_exporter": "python",
   "pygments_lexer": "ipython3",
   "version": "3.10.4"
  }
 },
 "nbformat": 4,
 "nbformat_minor": 2
}
