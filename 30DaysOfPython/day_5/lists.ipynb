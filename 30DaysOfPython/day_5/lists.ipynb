{
 "cells": [
  {
   "cell_type": "markdown",
   "metadata": {},
   "source": [
    "# Day 5: 30 Days of python programming\n",
    "\n",
    "## Exercises"
   ]
  },
  {
   "cell_type": "markdown",
   "metadata": {},
   "source": [
    "### Level 1\n",
    "\n",
    "#### Question 1 - 10"
   ]
  },
  {
   "cell_type": "code",
   "execution_count": 33,
   "metadata": {},
   "outputs": [
    {
     "name": "stdout",
     "output_type": "stream",
     "text": [
      "6\n",
      "The first item is item1\n",
      "The middle items are ['item3', 'item4']\n",
      "The last item is item6\n",
      "['Facebook', 'Google', 'Microsoft', 'Apple', 'IBM', 'Oracle', 'Amazon']\n",
      "7\n",
      "Facebook\n",
      "['Apple']\n",
      "Amazon\n",
      "['Meta', 'Google', 'Microsoft', 'Apple', 'IBM', 'Oracle', 'Amazon']\n",
      "['Meta', 'Google', 'Microsoft', 'Apple', 'IBM', 'Oracle', 'Amazon', 'Adobe']\n",
      "['Meta', 'Google', 'Microsoft', 'Apple', 'OpenAI', 'IBM', 'Oracle', 'Amazon', 'Adobe']\n",
      "GOOGLE\n",
      "['Meta', 'Google', 'Microsoft', 'Apple', 'OpenAI', 'IBM', 'Oracle', 'Amazon', 'Adobe']\n",
      "Meta#Google#Microsoft#Apple#OpenAI#IBM#Oracle#Amazon#Adobe\n",
      "True\n",
      "['Adobe', 'Amazon', 'Apple', 'Google', 'IBM', 'Meta', 'Microsoft', 'OpenAI', 'Oracle']\n",
      "['Oracle', 'OpenAI', 'Microsoft', 'Meta', 'IBM', 'Google', 'Apple', 'Amazon', 'Adobe']\n",
      "['Meta', 'IBM', 'Google', 'Apple', 'Amazon', 'Adobe']\n",
      "['Meta', 'IBM', 'Google']\n",
      "['IBM']\n",
      "['Google', 'Microsoft', 'Apple', 'OpenAI', 'IBM', 'Oracle', 'Amazon', 'Adobe']\n",
      "['Meta', 'Google', 'Microsoft', 'Apple', 'IBM', 'Oracle', 'Amazon', 'Adobe']\n",
      "['Meta', 'Google', 'Microsoft', 'Apple', 'IBM', 'Oracle', 'Amazon']\n",
      "[]\n"
     ]
    },
    {
     "ename": "NameError",
     "evalue": "name 'it_companies' is not defined",
     "output_type": "error",
     "traceback": [
      "\u001b[1;31m---------------------------------------------------------------------------\u001b[0m",
      "\u001b[1;31mNameError\u001b[0m                                 Traceback (most recent call last)",
      "Cell \u001b[1;32mIn[33], line 96\u001b[0m\n\u001b[0;32m     94\u001b[0m \u001b[38;5;66;03m# Destroy the IT companies list\u001b[39;00m\n\u001b[0;32m     95\u001b[0m \u001b[38;5;28;01mdel\u001b[39;00m it_companies\n\u001b[1;32m---> 96\u001b[0m \u001b[38;5;28mprint\u001b[39m(\u001b[43mit_companies\u001b[49m)\n",
      "\u001b[1;31mNameError\u001b[0m: name 'it_companies' is not defined"
     ]
    }
   ],
   "source": [
    "# Q1: Declare an empty list\n",
    "empty_list = []\n",
    "\n",
    "# Q2: Declare a list with more than 5 items\n",
    "my_list = ['item1', 'item2', 'item3', 'item4', 'item5', 'item6']\n",
    "\n",
    "# Q3: Find the length of your list\n",
    "print(len(my_list))\n",
    "\n",
    "# Q4: Get the first item, the middle item and the last item of the list\n",
    "print(f'The first item is {my_list[0]}')\n",
    "print(f'The middle items are {my_list[2:4]}')\n",
    "print(f'The last item is {my_list[-1]}')\n",
    "\n",
    "# Q5: Declare a list called mixed_data_types, put your(name, age, height, marital status, address)\n",
    "mixed_data_types = ['Damilare', 27, 79.50, 'singe', 'Akure, Ondo State']\n",
    "\n",
    "# Declare a list variable named it_companies and assign initial values Facebook, Google, Microsoft, Apple, IBM, Oracle and Amazon.\n",
    "it_companies = ['Facebook', 'Google', 'Microsoft', 'Apple', 'IBM', 'Oracle', 'Amazon']\n",
    "\n",
    "# Q7: Print the list using print()\n",
    "print(it_companies)\n",
    "\n",
    "# Q8: Print the number of companies in the list\n",
    "print(len(it_companies))\n",
    "\n",
    "# Q9: Print the first, middle and last company\n",
    "print(it_companies[0]) # First Company\n",
    "print(it_companies[3:4]) # Middle Company\n",
    "print(it_companies[-1]) # Last Company\n",
    "\n",
    "# Q10: Print the list after modifying one of the companies\n",
    "it_companies[0] = 'Meta'\n",
    "print(it_companies)\n",
    "\n",
    "# Q11: Add an IT company to it_companies\n",
    "it_companies.append('Adobe')\n",
    "print(it_companies)\n",
    "\n",
    "# Q12: Insert an IT company in the middle of the companies list\n",
    "it_companies.insert(4, 'OpenAI')\n",
    "print(it_companies)\n",
    "\n",
    "# Q13: Change one of the it_companies names to uppercase (IBM excluded!)\n",
    "upper_case = it_companies[1].upper()\n",
    "print(upper_case)\n",
    "\n",
    "# Q14: Join the it_companies with a string '#;  '\n",
    "print(it_companies)\n",
    "joined_list = '#'.join(it_companies)\n",
    "print(joined_list)\n",
    "\n",
    "# Q15: Check if a certain company exists in the it_companies list.\n",
    "print('Meta' in it_companies)\n",
    "\n",
    "# Q16: Sort the list using sort() method\n",
    "it_companies.sort()\n",
    "print(it_companies)\n",
    "\n",
    "# Q17: Reverse the list in descending order using reverse() method\n",
    "it_companies.reverse()\n",
    "print(it_companies)\n",
    "\n",
    "# Q18: Slice out the first 3 companies from the list\n",
    "it_companies = it_companies[3:]\n",
    "print(it_companies)\n",
    "\n",
    "# Q19: Slice out the last 3 companies from the list\n",
    "it_companies = it_companies[:3]\n",
    "print(it_companies)\n",
    "\n",
    "# Q20: Slice out the middle IT company or companies from the list\n",
    "it_companies = it_companies[1:3:2]\n",
    "print(it_companies)\n",
    "\n",
    "# Q21: Remove the first IT company from the list\n",
    "it_companies = ['Meta', 'Google', 'Microsoft', 'Apple', 'OpenAI', 'IBM', 'Oracle', 'Amazon', 'Adobe']\n",
    "it_companies.pop(0)\n",
    "print(it_companies)\n",
    "\n",
    "# Q22: Remove the middle IT company or companies from the list\n",
    "it_companies = ['Meta', 'Google', 'Microsoft', 'Apple', 'OpenAI', 'IBM', 'Oracle', 'Amazon', 'Adobe']\n",
    "del it_companies[4]\n",
    "print(it_companies)\n",
    "\n",
    "# Q23: Remove the last IT company from the list\n",
    "it_companies.pop(-1)\n",
    "print(it_companies)\n",
    "\n",
    "# Remove all IT companies from the list\n",
    "it_companies.clear()\n",
    "print(it_companies)\n",
    "\n",
    "# Destroy the IT companies list\n",
    "del it_companies\n",
    "print(it_companies)"
   ]
  },
  {
   "cell_type": "code",
   "execution_count": 34,
   "metadata": {},
   "outputs": [
    {
     "name": "stdout",
     "output_type": "stream",
     "text": [
      "['HTML', 'CSS', 'JS', 'React', 'Redux', 'Node', 'Express', 'MongoDB']\n"
     ]
    }
   ],
   "source": [
    "'''Q26: Join the following lists:\n",
    "\n",
    "front_end = ['HTML', 'CSS', 'JS', 'React', 'Redux']\n",
    "back_end = ['Node','Express', 'MongoDB']'''\n",
    "\n",
    "front_end = ['HTML', 'CSS', 'JS', 'React', 'Redux']\n",
    "back_end = ['Node','Express', 'MongoDB']\n",
    "lists = front_end + back_end\n",
    "print(lists)"
   ]
  }
 ],
 "metadata": {
  "kernelspec": {
   "display_name": "Python 3",
   "language": "python",
   "name": "python3"
  },
  "language_info": {
   "codemirror_mode": {
    "name": "ipython",
    "version": 3
   },
   "file_extension": ".py",
   "mimetype": "text/x-python",
   "name": "python",
   "nbconvert_exporter": "python",
   "pygments_lexer": "ipython3",
   "version": "3.10.4"
  }
 },
 "nbformat": 4,
 "nbformat_minor": 2
}
