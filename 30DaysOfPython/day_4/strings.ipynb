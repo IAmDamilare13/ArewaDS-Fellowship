{
 "cells": [
  {
   "cell_type": "markdown",
   "metadata": {},
   "source": [
    "# Day 3: 30 Days of python programming\n",
    "\n",
    "## Exercises"
   ]
  },
  {
   "cell_type": "markdown",
   "metadata": {},
   "source": [
    "### Question 1"
   ]
  },
  {
   "cell_type": "code",
   "execution_count": 3,
   "metadata": {},
   "outputs": [
    {
     "name": "stdout",
     "output_type": "stream",
     "text": [
      "Thirty Days Of Python\n"
     ]
    }
   ],
   "source": [
    "# Concatenate the string 'Thirty', 'Days', 'Of', 'Python' to a single string, 'Thirty Days Of Python'.\n",
    "\n",
    "# Assign Variables\n",
    "a = 'Thirty'\n",
    "b = 'Days'\n",
    "c = 'Of'\n",
    "d = 'Python'\n",
    "e = ' ' #Space character\n",
    "\n",
    "# Concatenante the string\n",
    "single = a + e + b + e + c + e + d\n",
    "\n",
    "# Display String\n",
    "print(single)"
   ]
  },
  {
   "cell_type": "markdown",
   "metadata": {},
   "source": [
    "### Question 2"
   ]
  },
  {
   "cell_type": "code",
   "execution_count": 4,
   "metadata": {},
   "outputs": [
    {
     "name": "stdout",
     "output_type": "stream",
     "text": [
      "Coding For All\n"
     ]
    }
   ],
   "source": [
    "# Concatenate the string 'Coding', 'For' , 'All' to a single string, 'Coding For All'.\n",
    "\n",
    "# Assign Variables\n",
    "a = 'Coding'\n",
    "b = 'For'\n",
    "c = 'All'\n",
    "d = ' ' # Space character\n",
    "\n",
    "# Concatenate String\n",
    "single = a + d + b + d + c\n",
    "\n",
    "# Display String\n",
    "print(single)"
   ]
  },
  {
   "cell_type": "markdown",
   "metadata": {},
   "source": [
    "### Question 3 - 10"
   ]
  },
  {
   "cell_type": "code",
   "execution_count": null,
   "metadata": {},
   "outputs": [
    {
     "name": "stdout",
     "output_type": "stream",
     "text": [
      "Coding For All\n",
      "14\n",
      "CODING FOR ALL\n",
      "coding for all\n",
      "Coding for all\n",
      "Coding For All\n",
      "cODING fOR aLL\n",
      "For All\n",
      "0\n",
      "Programming For All\n"
     ]
    }
   ],
   "source": [
    "# Q3: Declare a variable named company and assign it to an initial value \"Coding For All\".\n",
    "company = 'Coding For All'\n",
    "\n",
    "# Q4: Print the variable company using print().\n",
    "print(company)\n",
    "\n",
    "# Q5: Print the length of the company string using len() method and print().\n",
    "print(len(company))\n",
    "\n",
    "# Q6: Change all the characters to uppercase letters using upper() method.\n",
    "company = company.upper()\n",
    "print(company)\n",
    "\n",
    "# Q7: Change all the characters to lowercase letters using lower() method.\n",
    "company = company.lower()\n",
    "print(company)\n",
    "\n",
    "# Q8: Use capitalize(), title(), swapcase() methods to format the value of the string Coding For All.\n",
    "company = company.capitalize()\n",
    "print(company)\n",
    "company = company.title()\n",
    "print(company)\n",
    "company = company.swapcase()\n",
    "print(company)\n",
    "\n",
    "# Q9: Cut(slice) out the first word of Coding For All string.\n",
    "company = a,b,c\n",
    "print(b,c)\n",
    "\n",
    "# Q10: Check if Coding For All string contains a word Coding using the method index, find or other methods.\n",
    "company = 'Coding For All'\n",
    "print(company.find('Coding'))\n",
    "\n",
    "# Q11: Replace the word coding in the string 'Coding For All' to Python.\n",
    "print(company.replace('Coding', 'Programming'))"
   ]
  },
  {
   "cell_type": "markdown",
   "metadata": {},
   "source": [
    "### Question 12 - "
   ]
  },
  {
   "cell_type": "code",
   "execution_count": 41,
   "metadata": {},
   "outputs": [
    {
     "name": "stdout",
     "output_type": "stream",
     "text": [
      "Python for All\n",
      "['Coding', 'For', 'All']\n",
      "['Facebook', 'Google', 'Microsoft', 'Apple', 'IBM', 'Oracle', 'Amazon']\n",
      "C\n",
      "l\n",
      " \n",
      "Pyt\n",
      "Cod\n",
      "0\n",
      "7\n",
      "13\n"
     ]
    }
   ],
   "source": [
    "# Q12: Change Python for Everyone to Python for All using the replace method or other methods.\n",
    "statement_a = 'Python for Everyone'\n",
    "print(statement_a.replace('Everyone', 'All'))\n",
    "\n",
    "# Q13: Split the string 'Coding For All' using space as the separator (split()).\n",
    "statement_b = 'Coding For All'\n",
    "print(statement_b.split())\n",
    "\n",
    "# Q14: \"Facebook, Google, Microsoft, Apple, IBM, Oracle, Amazon\" split the string at the comma.\n",
    "tech_giants = 'Facebook, Google, Microsoft, Apple, IBM, Oracle, Amazon'\n",
    "print(tech_giants.split(', '))\n",
    "\n",
    "# Q15: What is the character at index 0 in the string Coding For All.\n",
    "print(statement_b[0])\n",
    "\n",
    "# Q16: What is the last index of the string Coding For All.\n",
    "print(statement_b[-1])\n",
    "\n",
    "# Q17: What character is at index 10 in \"Coding For All\" string.\n",
    "print(statement_b[10])\n",
    "\n",
    "# Q18: Create an acronym or an abbreviation for the name 'Python For Everyone'.\n",
    "print(statement_a[:3])\n",
    "\n",
    "# Q19: Create an acronym or an abbreviation for the name 'Coding For All'.\n",
    "print(statement_b[:3])\n",
    "\n",
    "# Q20: Use index to determine the position of the first occurrence of C in Coding For All.\n",
    "letter_c = statement_b.find('C')\n",
    "print(letter_c)\n",
    "\n",
    "# Q21: Use index to determine the position of the first occurrence of F in Coding For All.\n",
    "print(statement_b.find('F'))\n",
    "\n",
    "# Q22: Use rfind to determine the position of the last occurrence of l in Coding For All People.\n",
    "print(statement_b.rfind('l'))"
   ]
  },
  {
   "cell_type": "code",
   "execution_count": 59,
   "metadata": {},
   "outputs": [
    {
     "name": "stdout",
     "output_type": "stream",
     "text": [
      "31\n",
      "47\n",
      "['You cannot end a sentence with because because because is a conjunction']\n"
     ]
    }
   ],
   "source": [
    "# Q23: Use index or find to find the position of the first occurrence of the word 'because' in the following sentence: 'You cannot end a sentence with because because because is a conjunction'\n",
    "\n",
    "sentence = 'You cannot end a sentence with because because because is a conjunction'\n",
    "print(sentence.find('because'))\n",
    "\n",
    "# Q24: Use rindex to find the position of the last occurrence of the word because in the following sentence: 'You cannot end a sentence with because because because is a conjunction'\n",
    "\n",
    "print(sentence.rfind('because'))\n",
    "\n",
    "# Q25: Slice out the phrase 'because because because' in the following sentence: 'You cannot end a sentence with because because because is a conjunction'\n",
    "\n",
    "sentence_a = [sentence]\n",
    "print(sentence_a[:3])\n"
   ]
  }
 ],
 "metadata": {
  "kernelspec": {
   "display_name": "Python 3",
   "language": "python",
   "name": "python3"
  },
  "language_info": {
   "codemirror_mode": {
    "name": "ipython",
    "version": 3
   },
   "file_extension": ".py",
   "mimetype": "text/x-python",
   "name": "python",
   "nbconvert_exporter": "python",
   "pygments_lexer": "ipython3",
   "version": "3.10.4"
  }
 },
 "nbformat": 4,
 "nbformat_minor": 2
}
