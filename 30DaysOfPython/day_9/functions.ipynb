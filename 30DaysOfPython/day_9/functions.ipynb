{
 "cells": [
  {
   "cell_type": "markdown",
   "metadata": {},
   "source": [
    "# Day 9: 30 Days of python programming\n",
    "\n",
    "## Exercises: Level 1\n",
    "\n",
    "### Question 1 - 15"
   ]
  },
  {
   "cell_type": "code",
   "execution_count": null,
   "metadata": {},
   "outputs": [
    {
     "name": "stdout",
     "output_type": "stream",
     "text": [
      "Sum: 13\n",
      "Area of Circle: 153.958\n"
     ]
    },
    {
     "ename": "NameError",
     "evalue": "name 'j' is not defined",
     "output_type": "error",
     "traceback": [
      "\u001b[1;31m---------------------------------------------------------------------------\u001b[0m",
      "\u001b[1;31mNameError\u001b[0m                                 Traceback (most recent call last)",
      "Cell \u001b[1;32mIn[48], line 26\u001b[0m\n\u001b[0;32m     24\u001b[0m             \u001b[38;5;28;01mreturn\u001b[39;00m \u001b[38;5;124m'\u001b[39m\u001b[38;5;124mKindly input numbers only!\u001b[39m\u001b[38;5;124m'\u001b[39m\n\u001b[0;32m     25\u001b[0m     \u001b[38;5;28;01mreturn\u001b[39;00m total\n\u001b[1;32m---> 26\u001b[0m \u001b[38;5;28mprint\u001b[39m(add_all_nums(\u001b[38;5;241m9\u001b[39m, \u001b[38;5;241m9\u001b[39m, \u001b[43mj\u001b[49m, \u001b[38;5;241m9\u001b[39m))\n\u001b[0;32m     29\u001b[0m \u001b[38;5;66;03m# Q4: Temperature in °C can be converted to °F using this formula: °F = (°C x 9/5) + 32. Write a function which converts °C to °F, convert_celsius_to-fahrenheit.\u001b[39;00m\n\u001b[0;32m     31\u001b[0m \u001b[38;5;28;01mdef\u001b[39;00m \u001b[38;5;21mconvert_celsius_to_fahrenheit\u001b[39m(celsius):                     \u001b[38;5;66;03m# declare the function\u001b[39;00m\n",
      "\u001b[1;31mNameError\u001b[0m: name 'j' is not defined"
     ]
    }
   ],
   "source": [
    "# Q1: Declare a function add_two_numbers. It takes two parameters and it returns a sum.\n",
    "\n",
    "def add_two_numbers(num1, num2):         # declare the function\n",
    "    sum = num1 + num2                    # sum parameters\n",
    "    return sum                           # return sum\n",
    "print('Sum:', add_two_numbers(9,4))      # pass arguments into the function\n",
    "\n",
    "# Q2: Area of a circle is calculated as follows: area = π x r x r. Write a function that calculates area_of_circle.\n",
    "\n",
    "def area_of_circle(r):                          # declare the function\n",
    "    PI = 3.142                                  # declare pi as a constant value\n",
    "    area = PI * r * r                           # compute formula for area of a circle\n",
    "    return area                                 # return area of the circle\n",
    "print('Area of Circle:', area_of_circle(7))     # pass arguments into the function\n",
    "\n",
    "# Q3: Write a function called add_all_nums which takes arbitrary number of arguments and sums all the arguments. Check if all the list items are number types. If not do give a reasonable feedback.\n",
    "\n",
    "def add_all_nums(*args):\n",
    "    total = 0\n",
    "    for i in args:\n",
    "        if isinstance(i, (int, float)):\n",
    "            total += i\n",
    "        else:\n",
    "            return 'Kindly input numbers only!'\n",
    "    return total\n",
    "print(add_all_nums(9, 9, 9, 9))\n",
    "\n",
    "# Q4: Temperature in °C can be converted to °F using this formula: °F = (°C x 9/5) + 32. Write a function which converts °C to °F, convert_celsius_to-fahrenheit.\n",
    "\n",
    "def convert_celsius_to_fahrenheit(celsius):                     # declare the function\n",
    "    fahrenheit = (celsius * 9/5) + 32                           # compute formula to convert temperature\n",
    "    return fahrenheit                                           # return converted temperature\n",
    "print(f'Temperature = {convert_celsius_to_fahrenheit(32)}0F')   # display conversion\n",
    "\n",
    "\n"
   ]
  },
  {
   "cell_type": "code",
   "execution_count": null,
   "metadata": {},
   "outputs": [],
   "source": []
  }
 ],
 "metadata": {
  "kernelspec": {
   "display_name": "Python 3",
   "language": "python",
   "name": "python3"
  },
  "language_info": {
   "codemirror_mode": {
    "name": "ipython",
    "version": 3
   },
   "file_extension": ".py",
   "mimetype": "text/x-python",
   "name": "python",
   "nbconvert_exporter": "python",
   "pygments_lexer": "ipython3",
   "version": "3.10.4"
  }
 },
 "nbformat": 4,
 "nbformat_minor": 2
}
