{
 "cells": [
  {
   "cell_type": "markdown",
   "metadata": {},
   "source": [
    "# Day 5: 30 Days of python programming\n",
    "\n",
    "## Exercises"
   ]
  },
  {
   "cell_type": "markdown",
   "metadata": {},
   "source": [
    "### Level 1\n",
    "\n",
    "#### Question 1 - 10"
   ]
  },
  {
   "cell_type": "code",
   "execution_count": 27,
   "metadata": {},
   "outputs": [
    {
     "name": "stdout",
     "output_type": "stream",
     "text": [
      "6\n",
      "The first item is item1\n",
      "The middle items are ['item3', 'item4']\n",
      "The last item is item6\n",
      "['Facebook', 'Google', 'Microsoft', 'Apple', 'IBM', 'Oracle', 'Amazon']\n",
      "7\n",
      "Facebook\n",
      "['Apple']\n",
      "Amazon\n",
      "['Meta', 'Google', 'Microsoft', 'Apple', 'IBM', 'Oracle', 'Amazon']\n",
      "['Meta', 'Google', 'Microsoft', 'Apple', 'IBM', 'Oracle', 'Amazon', 'Adobe']\n",
      "['Meta', 'Google', 'Microsoft', 'Apple', 'OpenAI', 'IBM', 'Oracle', 'Amazon', 'Adobe']\n",
      "GOOGLE\n"
     ]
    }
   ],
   "source": [
    "# Q1: Declare an empty list\n",
    "empty_list = []\n",
    "\n",
    "# Q2: Declare a list with more than 5 items\n",
    "my_list = ['item1', 'item2', 'item3', 'item4', 'item5', 'item6']\n",
    "\n",
    "# Q3: Find the length of your list\n",
    "print(len(my_list))\n",
    "\n",
    "# Q4: Get the first item, the middle item and the last item of the list\n",
    "print(f'The first item is {my_list[0]}')\n",
    "print(f'The middle items are {my_list[2:4]}')\n",
    "print(f'The last item is {my_list[-1]}')\n",
    "\n",
    "# Q5: Declare a list called mixed_data_types, put your(name, age, height, marital status, address)\n",
    "mixed_data_types = ['Damilare', 27, 79.50, 'singe', 'Akure, Ondo State']\n",
    "\n",
    "# Declare a list variable named it_companies and assign initial values Facebook, Google, Microsoft, Apple, IBM, Oracle and Amazon.\n",
    "it_companies = ['Facebook', 'Google', 'Microsoft', 'Apple', 'IBM', 'Oracle', 'Amazon']\n",
    "\n",
    "# Q7: Print the list using print()\n",
    "print(it_companies)\n",
    "\n",
    "# Q8: Print the number of companies in the list\n",
    "print(len(it_companies))\n",
    "\n",
    "# Q9: Print the first, middle and last company\n",
    "print(it_companies[0]) # First Company\n",
    "print(it_companies[3:4]) # Middle Company\n",
    "print(it_companies[-1]) # Last Company\n",
    "\n",
    "# Q10: Print the list after modifying one of the companies\n",
    "it_companies[0] = 'Meta'\n",
    "print(it_companies)\n",
    "\n",
    "# Q11: Add an IT company to it_companies\n",
    "it_companies.append('Adobe')\n",
    "print(it_companies)\n",
    "\n",
    "# Q12: Insert an IT company in the middle of the companies list\n",
    "it_companies.insert(4, 'OpenAI')\n",
    "print(it_companies)\n",
    "\n",
    "# Q13: Change one of the it_companies names to uppercase (IBM excluded!)\n",
    "upper_case = it_companies[1].upper()\n",
    "print(upper_case)\n",
    "\n",
    "# Q14: Join the it_companies with a string '#;  '\n"
   ]
  },
  {
   "cell_type": "code",
   "execution_count": null,
   "metadata": {},
   "outputs": [],
   "source": []
  }
 ],
 "metadata": {
  "kernelspec": {
   "display_name": "Python 3",
   "language": "python",
   "name": "python3"
  },
  "language_info": {
   "codemirror_mode": {
    "name": "ipython",
    "version": 3
   },
   "file_extension": ".py",
   "mimetype": "text/x-python",
   "name": "python",
   "nbconvert_exporter": "python",
   "pygments_lexer": "ipython3",
   "version": "3.10.4"
  }
 },
 "nbformat": 4,
 "nbformat_minor": 2
}
