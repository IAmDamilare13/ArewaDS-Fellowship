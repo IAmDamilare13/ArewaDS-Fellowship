{
 "cells": [
  {
   "cell_type": "markdown",
   "metadata": {},
   "source": [
    "# Day 7: 30 Days of python programming\n",
    "\n",
    "## Exercises: Level 1\n",
    "\n",
    "### Questions 1 - 3"
   ]
  },
  {
   "cell_type": "code",
   "execution_count": null,
   "metadata": {},
   "outputs": [
    {
     "name": "stdout",
     "output_type": "stream",
     "text": [
      "You need 17 more years to learn to drive.\n",
      "I am 49 years older than you.\n",
      "a is equal to b\n"
     ]
    }
   ],
   "source": [
    "# Q1: Get user input using input(“Enter your age: ”). If user is 18 or older, give feedback: You are old enough to drive. If below 18 give feedback to wait for the missing amount of years. \n",
    "\n",
    "age = int(input('Enter your age: '))\n",
    "if age >= 18:\n",
    "    print('You are old enough to learn to drive.')\n",
    "else:\n",
    "    wait = 18 - age\n",
    "    print(f'You need {wait} more years to learn to drive.')\n",
    "\n",
    "# Q2: Compare the values of my_age and your_age using if … else. Who is older (me or you)? Use input(“Enter your age: ”) to get the age as input. You can use a nested condition to print 'year' for 1 year difference in age, 'years' for bigger differences, and a custom text if my_age = your_age.\n",
    "my_age = 50\n",
    "your_age = int(input('Enter your age: '))   # Collect age from user\n",
    "if your_age > my_age:                       # Compare age of user with my age\n",
    "    age_gap = your_age - my_age\n",
    "    if age_gap == 1:\n",
    "        print('You are 1 year older than me.')\n",
    "    else:\n",
    "        print(f'You are {age_gap} years older than me.')\n",
    "elif my_age > your_age:\n",
    "    age_gap = my_age - your_age\n",
    "    if age_gap == 1:\n",
    "        print('I am 1 year older than you.')\n",
    "    else:\n",
    "        print(F'I am {age_gap} years older than you.')\n",
    "else:\n",
    "    print('We are of same age.')           \n",
    "\n",
    "# Q3: Get two numbers from the user using input prompt. If a is greater than b return a is greater than b, if a is less b return a is smaller than b, else a is equal to b. \n",
    "a = int(input('Enter number one: '))    # Collect first digit from user\n",
    "b = int(input('Enter number two: '))    # Collect second digit from user\n",
    "\n",
    "print(f'{a} is greater than {b}') if a > b else print(f'{a} is smaller than {b}') if a < b else print('a is equal to b')    # Shorthand for, if else statement"
   ]
  },
  {
   "cell_type": "markdown",
   "metadata": {},
   "source": [
    "## Exercises: Level 2\n",
    "\n",
    "### Questions 1 - 3"
   ]
  },
  {
   "cell_type": "code",
   "execution_count": 22,
   "metadata": {},
   "outputs": [
    {
     "name": "stdout",
     "output_type": "stream",
     "text": [
      "Grade: B\n",
      "Season: Spring\n",
      "['banana', 'orange', 'mango', 'lemon', 'pawpaw']\n"
     ]
    }
   ],
   "source": [
    "# Q1: Write a code which gives grade to students according to theirs scores.\n",
    "\n",
    "score = int(input('Enter your score: '))    #\n",
    "\n",
    "print('Grade: A') if score >= 80 and score <= 100 else print('Grade: B') if score >= 70 and score <=89 else print('Grade: C') if score >= 60 and score <= 69 else print('Grade: D') if score >= 50 and score <=59 else print('Grade: F') if score >= 0 and score <= 49 else print('Invalid score, try again')\n",
    "\n",
    "# Q2: Check if the season is Autumn, Winter, Spring or Summer. If the user input is: September, October or November, the season is Autumn. December, January or February, the season is Winter. March, April or May, the season is Spring June, July or August, the season is Summer.\n",
    "\n",
    "user_input= input('Enter a month: ')\n",
    "# seasons = ['Autumn', 'Winter', 'Spring', 'Summer']\n",
    "autumn = ['September', 'October', 'November']\n",
    "winter = ['December', 'January', 'February']\n",
    "spring = ['March', 'April', 'May']\n",
    "summer = ['June', 'July', 'August']\n",
    "\n",
    "\n",
    "if user_input.title() in autumn:\n",
    "    print('Season: Autumn')\n",
    "elif user_input.title() in winter:\n",
    "    print('Season: Winter')\n",
    "elif user_input.title() in spring:\n",
    "    print('Season: Spring')\n",
    "elif user_input.title() in summer:\n",
    "    print('Season: Summer')\n",
    "else:\n",
    "    print('Please enter a correct month.')    \n",
    "\n",
    "'''\n",
    "Q3: The following list contains some fruits:\n",
    "fruits = ['banana', 'orange', 'mango', 'lemon']\n",
    "If a fruit doesn't exist in the list add the fruit to the list and print the modified list. If the fruit exists print('That fruit already exist in the list')\n",
    "'''\n",
    "fruits = ['banana', 'orange', 'mango', 'lemon']\n",
    "user_input = input('Fruit name: ')\n",
    "\n",
    "status = user_input in fruits\n",
    "if status == True:\n",
    "    print('That fruit already exist in the list')\n",
    "else:\n",
    "    fruits.append(user_input)\n",
    "    print(fruits)    \n",
    "\n"
   ]
  },
  {
   "cell_type": "markdown",
   "metadata": {},
   "source": [
    "## Exercises: Level 3\n",
    "\n",
    "### Question\n",
    "\n",
    "Here we have a person dictionary. Feel free to modify it!\n",
    "        person={\n",
    "    'first_name': 'Asabeneh',\n",
    "    'last_name': 'Yetayeh',\n",
    "    'age': 250,\n",
    "    'country': 'Finland',\n",
    "    'is_marred': True,\n",
    "    'skills': ['JavaScript', 'React', 'Node', 'MongoDB', 'Python'],\n",
    "    'address': {\n",
    "        'street': 'Space street',\n",
    "        'zipcode': '02210'\n",
    "    }\n",
    "    }\n",
    " * Check if the person dictionary has skills key, if so print out the middle skill in the skills list.\n",
    " * Check if the person dictionary has skills key, if so check if the person has 'Python' skill and print out the result.\n",
    " * If a person skills has only JavaScript and React, print('He is a front end developer'), if the person skills has Node, Python, MongoDB, print('He is a backend developer'), if the person skills has React, Node and MongoDB, Print('He is a fullstack developer'), else print('unknown title') - for more accurate results more conditions can be nested!\n",
    " * If the person is married and if he lives in Finland, print the information in the following format:\n",
    "    Asabeneh Yetayeh lives in Finland. He is married."
   ]
  },
  {
   "cell_type": "code",
   "execution_count": 46,
   "metadata": {},
   "outputs": [
    {
     "name": "stdout",
     "output_type": "stream",
     "text": [
      "User has some skills\n",
      "He is a front end developer.\n",
      "He is a backend developer.\n",
      "He is a fullstack developer.\n",
      "Asabeneh Yetayeh lives in Finlad. He is married.\n"
     ]
    }
   ],
   "source": [
    "person = {\n",
    "    'first_name':'Asabeneh',\n",
    "    'last_name':'Yetayeh',\n",
    "    'age':250,\n",
    "    'country':'Finland',\n",
    "    'is_married':True,\n",
    "    'skills':['JavaScript', 'React', 'Node', 'MongoDB', 'Python'],\n",
    "    'address':{\n",
    "        'street':'Space street',\n",
    "        'zipcode':'02210'}\n",
    "}\n",
    "\n",
    "# Declaring variables\n",
    "skill_status = 'skills' in person\n",
    "frontend_dev = 'JavaScript' and 'React' in person['skills']\n",
    "backend_dev = 'Node' and 'Python' and 'MongoDB' in person['skills']\n",
    "fullstack_dev = 'React' and 'Node' and 'MongoDB' in person['skills']\n",
    "lives_in_finland = 'Finland' in person['country']\n",
    "marital_status = person['is_married'] == True\n",
    "\n",
    "# Check if user has any skills\n",
    "if skill_status == True:\n",
    "    print('User has some skills')\n",
    "else:\n",
    "    print('User has no skills')\n",
    "\n",
    "# Check user category by skill set\n",
    "if frontend_dev == True:\n",
    "   print('He is a front end developer.')  \n",
    "if backend_dev == True:\n",
    "    print('He is a backend developer.')\n",
    "if fullstack_dev == True:\n",
    "    print('He is a fullstack developer.')\n",
    "else:\n",
    "    print('Unknown title.')\n",
    "\n",
    "# Check if user lives in Finland and is married\n",
    "if lives_in_finland and marital_status == True:\n",
    "    print(f'{person[\"first_name\"]} {person[\"last_name\"]} lives in Finlad. He is married.')\n",
    "else:\n",
    "    print('End!')"
   ]
  }
 ],
 "metadata": {
  "kernelspec": {
   "display_name": "Python 3",
   "language": "python",
   "name": "python3"
  },
  "language_info": {
   "codemirror_mode": {
    "name": "ipython",
    "version": 3
   },
   "file_extension": ".py",
   "mimetype": "text/x-python",
   "name": "python",
   "nbconvert_exporter": "python",
   "pygments_lexer": "ipython3",
   "version": "3.10.4"
  }
 },
 "nbformat": 4,
 "nbformat_minor": 2
}
