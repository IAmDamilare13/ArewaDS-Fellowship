{
 "cells": [
  {
   "cell_type": "markdown",
   "metadata": {},
   "source": [
    "# Day 6: 30 Days of python programming\n",
    "\n",
    "## Exercises\n",
    "\n",
    "### Questions 1 - 2"
   ]
  },
  {
   "cell_type": "code",
   "execution_count": 2,
   "metadata": {},
   "outputs": [
    {
     "data": {
      "text/plain": [
       "{'name': 'Bingo', 'color': 'Brown', 'breed': 'Unknown', 'age': 5}"
      ]
     },
     "execution_count": 2,
     "metadata": {},
     "output_type": "execute_result"
    }
   ],
   "source": [
    "# Q1: Create an empty dictionary called dog\n",
    "dog = {}\n",
    "\n",
    "# Q2: Add name, color, breed, legs, age to the dog dictionary\n",
    "dog['name'] = 'Bingo'\n",
    "dog['color'] = 'Brown'\n",
    "dog['breed'] = 'Unknown'\n",
    "dog['age'] = 5\n",
    "\n",
    "dog\n"
   ]
  }
 ],
 "metadata": {
  "kernelspec": {
   "display_name": "Python 3",
   "language": "python",
   "name": "python3"
  },
  "language_info": {
   "codemirror_mode": {
    "name": "ipython",
    "version": 3
   },
   "file_extension": ".py",
   "mimetype": "text/x-python",
   "name": "python",
   "nbconvert_exporter": "python",
   "pygments_lexer": "ipython3",
   "version": "3.10.4"
  }
 },
 "nbformat": 4,
 "nbformat_minor": 2
}
