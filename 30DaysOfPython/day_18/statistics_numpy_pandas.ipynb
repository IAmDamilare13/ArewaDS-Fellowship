{
 "cells": [
  {
   "cell_type": "markdown",
   "id": "93d29bf4",
   "metadata": {},
   "source": [
    "## Day 18: 30 Days of Python Programming\n",
    "\n",
    "### Numpy Exercises"
   ]
  },
  {
   "cell_type": "code",
   "execution_count": 2,
   "id": "cf556b7b",
   "metadata": {},
   "outputs": [
    {
     "name": "stdout",
     "output_type": "stream",
     "text": [
      "numpy: 1.26.4\n",
      "['ALLOW_THREADS', 'BUFSIZE', 'CLIP', 'DataSource', 'ERR_CALL', 'ERR_DEFAULT', 'ERR_IGNORE', 'ERR_LOG', 'ERR_PRINT', 'ERR_RAISE', 'ERR_WARN', 'FLOATING_POINT_SUPPORT', 'FPE_DIVIDEBYZERO', 'FPE_INVALID', 'FPE_OVERFLOW', 'FPE_UNDERFLOW', 'False_', 'Inf', 'Infinity', 'MAXDIMS', 'MAY_SHARE_BOUNDS', 'MAY_SHARE_EXACT', 'NAN', 'NINF', 'NZERO', 'NaN', 'PINF', 'PZERO', 'RAISE', 'RankWarning', 'SHIFT_DIVIDEBYZERO', 'SHIFT_INVALID', 'SHIFT_OVERFLOW', 'SHIFT_UNDERFLOW', 'ScalarType', 'True_', 'UFUNC_BUFSIZE_DEFAULT', 'UFUNC_PYVALS_NAME', 'WRAP', '_CopyMode', '_NoValue', '_UFUNC_API', '__NUMPY_SETUP__', '__all__', '__builtins__', '__cached__', '__config__', '__deprecated_attrs__', '__dir__', '__doc__', '__expired_functions__', '__file__', '__former_attrs__', '__future_scalars__', '__getattr__', '__loader__', '__name__', '__package__', '__path__', '__spec__', '__version__', '_add_newdoc_ufunc', '_builtins', '_distributor_init', '_financial_names', '_get_promotion_state', '_globals', '_int_extended_msg', '_mat', '_no_nep50_warning', '_pyinstaller_hooks_dir', '_pytesttester', '_set_promotion_state', '_specific_msg', '_typing', '_using_numpy2_behavior', '_utils', 'abs', 'absolute', 'add', 'add_docstring', 'add_newdoc', 'add_newdoc_ufunc', 'all', 'allclose', 'alltrue', 'amax', 'amin', 'angle', 'any', 'append', 'apply_along_axis', 'apply_over_axes', 'arange', 'arccos', 'arccosh', 'arcsin', 'arcsinh', 'arctan', 'arctan2', 'arctanh', 'argmax', 'argmin', 'argpartition', 'argsort', 'argwhere', 'around', 'array', 'array2string', 'array_equal', 'array_equiv', 'array_repr', 'array_split', 'array_str', 'asanyarray', 'asarray', 'asarray_chkfinite', 'ascontiguousarray', 'asfarray', 'asfortranarray', 'asmatrix', 'atleast_1d', 'atleast_2d', 'atleast_3d', 'average', 'bartlett', 'base_repr', 'binary_repr', 'bincount', 'bitwise_and', 'bitwise_not', 'bitwise_or', 'bitwise_xor', 'blackman', 'block', 'bmat', 'bool_', 'broadcast', 'broadcast_arrays', 'broadcast_shapes', 'broadcast_to', 'busday_count', 'busday_offset', 'busdaycalendar', 'byte', 'byte_bounds', 'bytes_', 'c_', 'can_cast', 'cast', 'cbrt', 'cdouble', 'ceil', 'cfloat', 'char', 'character', 'chararray', 'choose', 'clip', 'clongdouble', 'clongfloat', 'column_stack', 'common_type', 'compare_chararrays', 'compat', 'complex128', 'complex64', 'complex_', 'complexfloating', 'compress', 'concatenate', 'conj', 'conjugate', 'convolve', 'copy', 'copysign', 'copyto', 'corrcoef', 'correlate', 'cos', 'cosh', 'count_nonzero', 'cov', 'cross', 'csingle', 'ctypeslib', 'cumprod', 'cumproduct', 'cumsum', 'datetime64', 'datetime_as_string', 'datetime_data', 'deg2rad', 'degrees', 'delete', 'deprecate', 'deprecate_with_doc', 'diag', 'diag_indices', 'diag_indices_from', 'diagflat', 'diagonal', 'diff', 'digitize', 'disp', 'divide', 'divmod', 'dot', 'double', 'dsplit', 'dstack', 'dtype', 'dtypes', 'e', 'ediff1d', 'einsum', 'einsum_path', 'emath', 'empty', 'empty_like', 'equal', 'errstate', 'euler_gamma', 'exceptions', 'exp', 'exp2', 'expand_dims', 'expm1', 'extract', 'eye', 'fabs', 'fastCopyAndTranspose', 'fft', 'fill_diagonal', 'find_common_type', 'finfo', 'fix', 'flatiter', 'flatnonzero', 'flexible', 'flip', 'fliplr', 'flipud', 'float16', 'float32', 'float64', 'float_', 'float_power', 'floating', 'floor', 'floor_divide', 'fmax', 'fmin', 'fmod', 'format_float_positional', 'format_float_scientific', 'format_parser', 'frexp', 'from_dlpack', 'frombuffer', 'fromfile', 'fromfunction', 'fromiter', 'frompyfunc', 'fromregex', 'fromstring', 'full', 'full_like', 'gcd', 'generic', 'genfromtxt', 'geomspace', 'get_array_wrap', 'get_include', 'get_printoptions', 'getbufsize', 'geterr', 'geterrcall', 'geterrobj', 'gradient', 'greater', 'greater_equal', 'half', 'hamming', 'hanning', 'heaviside', 'histogram', 'histogram2d', 'histogram_bin_edges', 'histogramdd', 'hsplit', 'hstack', 'hypot', 'i0', 'identity', 'iinfo', 'imag', 'in1d', 'index_exp', 'indices', 'inexact', 'inf', 'info', 'infty', 'inner', 'insert', 'int16', 'int32', 'int64', 'int8', 'int_', 'intc', 'integer', 'interp', 'intersect1d', 'intp', 'invert', 'is_busday', 'isclose', 'iscomplex', 'iscomplexobj', 'isfinite', 'isfortran', 'isin', 'isinf', 'isnan', 'isnat', 'isneginf', 'isposinf', 'isreal', 'isrealobj', 'isscalar', 'issctype', 'issubclass_', 'issubdtype', 'issubsctype', 'iterable', 'ix_', 'kaiser', 'kron', 'lcm', 'ldexp', 'left_shift', 'less', 'less_equal', 'lexsort', 'lib', 'linalg', 'linspace', 'little_endian', 'load', 'loadtxt', 'log', 'log10', 'log1p', 'log2', 'logaddexp', 'logaddexp2', 'logical_and', 'logical_not', 'logical_or', 'logical_xor', 'logspace', 'longcomplex', 'longdouble', 'longfloat', 'longlong', 'lookfor', 'ma', 'mask_indices', 'mat', 'matmul', 'matrix', 'max', 'maximum', 'maximum_sctype', 'may_share_memory', 'mean', 'median', 'memmap', 'meshgrid', 'mgrid', 'min', 'min_scalar_type', 'minimum', 'mintypecode', 'mod', 'modf', 'moveaxis', 'msort', 'multiply', 'nan', 'nan_to_num', 'nanargmax', 'nanargmin', 'nancumprod', 'nancumsum', 'nanmax', 'nanmean', 'nanmedian', 'nanmin', 'nanpercentile', 'nanprod', 'nanquantile', 'nanstd', 'nansum', 'nanvar', 'nbytes', 'ndarray', 'ndenumerate', 'ndim', 'ndindex', 'nditer', 'negative', 'nested_iters', 'newaxis', 'nextafter', 'nonzero', 'not_equal', 'numarray', 'number', 'obj2sctype', 'object_', 'ogrid', 'oldnumeric', 'ones', 'ones_like', 'outer', 'packbits', 'pad', 'partition', 'percentile', 'pi', 'piecewise', 'place', 'poly', 'poly1d', 'polyadd', 'polyder', 'polydiv', 'polyfit', 'polyint', 'polymul', 'polynomial', 'polysub', 'polyval', 'positive', 'power', 'printoptions', 'prod', 'product', 'promote_types', 'ptp', 'put', 'put_along_axis', 'putmask', 'quantile', 'r_', 'rad2deg', 'radians', 'random', 'ravel', 'ravel_multi_index', 'real', 'real_if_close', 'rec', 'recarray', 'recfromcsv', 'recfromtxt', 'reciprocal', 'record', 'remainder', 'repeat', 'require', 'reshape', 'resize', 'result_type', 'right_shift', 'rint', 'roll', 'rollaxis', 'roots', 'rot90', 'round', 'round_', 'row_stack', 's_', 'safe_eval', 'save', 'savetxt', 'savez', 'savez_compressed', 'sctype2char', 'sctypeDict', 'sctypes', 'searchsorted', 'select', 'set_numeric_ops', 'set_printoptions', 'set_string_function', 'setbufsize', 'setdiff1d', 'seterr', 'seterrcall', 'seterrobj', 'setxor1d', 'shape', 'shares_memory', 'short', 'show_config', 'show_runtime', 'sign', 'signbit', 'signedinteger', 'sin', 'sinc', 'single', 'singlecomplex', 'sinh', 'size', 'sometrue', 'sort', 'sort_complex', 'source', 'spacing', 'split', 'sqrt', 'square', 'squeeze', 'stack', 'std', 'str_', 'string_', 'subtract', 'sum', 'swapaxes', 'take', 'take_along_axis', 'tan', 'tanh', 'tensordot', 'test', 'testing', 'tile', 'timedelta64', 'trace', 'tracemalloc_domain', 'transpose', 'trapz', 'tri', 'tril', 'tril_indices', 'tril_indices_from', 'trim_zeros', 'triu', 'triu_indices', 'triu_indices_from', 'true_divide', 'trunc', 'typecodes', 'typename', 'ubyte', 'ufunc', 'uint', 'uint16', 'uint32', 'uint64', 'uint8', 'uintc', 'uintp', 'ulonglong', 'unicode_', 'union1d', 'unique', 'unpackbits', 'unravel_index', 'unsignedinteger', 'unwrap', 'ushort', 'vander', 'var', 'vdot', 'vectorize', 'version', 'void', 'vsplit', 'vstack', 'where', 'who', 'zeros', 'zeros_like']\n",
      "Type: <class 'list'>\n",
      "[1, 2, 3, 4, 5]\n",
      "[[0, 1, 2, 3], [3, 4, 5], [6, 7, 8]]\n",
      "<class 'numpy.ndarray'>\n",
      "[1 2 3 4 5]\n",
      "[False  True  True False False]\n",
      "<class 'numpy.ndarray'>\n",
      "[[0 1 2]\n",
      " [3 4 5]\n",
      " [6 7 8]]\n"
     ]
    }
   ],
   "source": [
    "# Importing Numpy\n",
    "\n",
    "import numpy as np\n",
    "\n",
    "# How to check the version of the numpy package\n",
    "print('numpy:', np.__version__)\n",
    "\n",
    "# Checking the available methods\n",
    "print(dir(np))\n",
    "\n",
    "# Creating int numpy array\n",
    "python_list = [1, 2, 3, 4, 5]\n",
    "\n",
    "# Checking data types\n",
    "print('Type:', type(python_list))\n",
    "\n",
    "print(python_list)\n",
    "\n",
    "two_dimensional_list = [[0, 1, 2, 3], [3, 4, 5], [6, 7, 8]]\n",
    "print(two_dimensional_list)\n",
    "\n",
    "# Creating Numpy (Numerical Python) array from python list\n",
    "numpy_array_from_list = np.array(python_list)\n",
    "print(type (numpy_array_from_list))\n",
    "print(numpy_array_from_list)\n",
    "\n",
    "# Creating boolean numpy arrays\n",
    "numpy_bool_array = np.array([0, 1, -1, 0, 0], dtype=bool)\n",
    "print(numpy_bool_array)\n",
    "\n",
    "# Creating multidimentional array using numpy\n",
    "two_dimensional_list = [[0, 1, 2], [3, 4, 5], [6, 7, 8]]\n",
    "numpy_two_dimensional_list = np.array(two_dimensional_list)\n",
    "print(type (numpy_two_dimensional_list))\n",
    "print(numpy_two_dimensional_list)"
   ]
  },
  {
   "cell_type": "code",
   "execution_count": 3,
   "id": "42a843e9",
   "metadata": {},
   "outputs": [
    {
     "name": "stdout",
     "output_type": "stream",
     "text": [
      "<class 'list'>\n",
      "one dimensional array: [1, 2, 3, 4, 5]\n",
      "two dimensional array:  [[0, 1, 2], [3, 4, 5], [6, 7, 8]]\n",
      "<class 'tuple'>\n",
      "python_tuple:  (1, 2, 3, 4, 5)\n",
      "<class 'numpy.ndarray'>\n",
      "numpy_array_from_tuple:  [1 2 3 4 5]\n",
      "[1 2 3 4 5]\n",
      "shape of nums:  (5,)\n",
      "[[0 1 2]\n",
      " [3 4 5]\n",
      " [6 7 8]]\n",
      "shape of numpy_two_dimensional_list:  (3, 3)\n",
      "[[ 0  1  2  3]\n",
      " [ 4  5  6  7]\n",
      " [ 8  9 10 11]]\n",
      "(3, 4)\n",
      "[-3 -2 -1  0  1  2  3]\n",
      "int32\n",
      "[-3. -2. -1.  0.  1.  2.  3.]\n",
      "float64\n",
      "The size: 5\n",
      "The size: 9\n"
     ]
    }
   ],
   "source": [
    "# Converting numpy array to list\n",
    "np_to_list = numpy_array_from_list.tolist()\n",
    "print(type (np_to_list))\n",
    "print('one dimensional array:', np_to_list)\n",
    "print('two dimensional array: ', numpy_two_dimensional_list.tolist())\n",
    "\n",
    "# Creating numpy array from tuple\n",
    "python_tuple = (1, 2, 3, 4, 5)\n",
    "print(type (python_tuple))\n",
    "print('python_tuple: ', python_tuple)\n",
    "\n",
    "numpy_array_from_tuple = np.array(python_tuple)\n",
    "print(type (numpy_array_from_tuple))\n",
    "print('numpy_array_from_tuple: ', numpy_array_from_tuple)\n",
    "\n",
    "# Shape of numpy array\n",
    "nums = np.array([1, 2, 3, 4, 5])\n",
    "print(nums)\n",
    "print('shape of nums: ', nums.shape)\n",
    "print(numpy_two_dimensional_list)\n",
    "print('shape of numpy_two_dimensional_list: ', numpy_two_dimensional_list.shape)\n",
    "three_by_four_array = np.array([[0, 1, 2, 3], [4, 5, 6, 7], [8, 9, 10, 11]])\n",
    "print(three_by_four_array)\n",
    "print(three_by_four_array.shape)\n",
    "\n",
    "\n",
    "# Data type of numpy array\n",
    "int_lists = [-3, -2, -1, 0, 1, 2, 3]\n",
    "int_array = np.array(int_lists)\n",
    "float_array = np.array(int_lists, dtype=float)\n",
    "\n",
    "print(int_array)\n",
    "print(int_array.dtype)\n",
    "print(float_array)\n",
    "print(float_array.dtype)\n",
    "\n",
    "# Size of a numpy array\n",
    "numpy_array_from_list = np.array([1, 2, 3, 4, 5])\n",
    "two_dimensional_list = np.array([[0, 1, 2], [3, 4, 5], [6, 7, 8]])\n",
    "print('The size:', numpy_array_from_list.size)\n",
    "print('The size:', two_dimensional_list.size)"
   ]
  },
  {
   "cell_type": "code",
   "execution_count": 4,
   "id": "d97b96e4",
   "metadata": {},
   "outputs": [
    {
     "name": "stdout",
     "output_type": "stream",
     "text": [
      "original array:  [1 2 3 4 5]\n",
      "[11 12 13 14 15]\n",
      "original array:  [1 2 3 4 5]\n",
      "[-9 -8 -7 -6 -5]\n",
      "original array:  [1 2 3 4 5]\n",
      "[10 20 30 40 50]\n",
      "original array:  [1 2 3 4 5]\n",
      "[0.1 0.2 0.3 0.4 0.5]\n",
      "original array:  [1 2 3 4 5]\n",
      "[1 2 0 1 2]\n",
      "original array:  [1 2 3 4 5]\n",
      "[0 0 0 0 0]\n",
      "original list:  [1 2 3 4 5]\n",
      "[ 1  4  9 16 25]\n"
     ]
    }
   ],
   "source": [
    "# Mathematical Operation\n",
    "\n",
    "# Addition\n",
    "numpy_array_from_list = np.array([1, 2, 3, 4, 5])\n",
    "print('original array: ', numpy_array_from_list)\n",
    "ten_plus_original = numpy_array_from_list + 10\n",
    "print(ten_plus_original)\n",
    "\n",
    "# Subtraction\n",
    "numpy_array_from_list = np.array([1, 2, 3, 4, 5])\n",
    "print('original array: ', numpy_array_from_list)\n",
    "ten_minus_original = numpy_array_from_list - 10\n",
    "print(ten_minus_original)\n",
    "\n",
    "# Multiplication\n",
    "numpy_array_from_list = np.array([1, 2, 3, 4, 5])\n",
    "print('original array: ', numpy_array_from_list)\n",
    "ten_times_original = numpy_array_from_list * 10\n",
    "print(ten_times_original)\n",
    "\n",
    "# Division\n",
    "numpy_array_from_list = np.array([1, 2, 3, 4, 5])\n",
    "print('original array: ', numpy_array_from_list)\n",
    "ten_times_original = numpy_array_from_list / 10\n",
    "print(ten_times_original)\n",
    "\n",
    "# Modulus\n",
    "numpy_array_from_list = np.array([1, 2, 3, 4, 5])\n",
    "print('original array: ', numpy_array_from_list)\n",
    "ten_times_original = numpy_array_from_list % 3\n",
    "print(ten_times_original)\n",
    "\n",
    "# Floor Division\n",
    "numpy_array_from_list = np.array([1, 2, 3, 4, 5])\n",
    "print('original array: ', numpy_array_from_list)\n",
    "ten_times_original = numpy_array_from_list // 10\n",
    "print(ten_times_original)\n",
    "\n",
    "# Exponential\n",
    "numpy_array_from_list = np.array([1, 2, 3, 4, 5])\n",
    "print('original list: ', numpy_array_from_list)\n",
    "ten_times_original = numpy_array_from_list ** 2\n",
    "print(ten_times_original)"
   ]
  },
  {
   "cell_type": "code",
   "execution_count": 5,
   "id": "151125e1",
   "metadata": {},
   "outputs": [
    {
     "name": "stdout",
     "output_type": "stream",
     "text": [
      "int32\n",
      "float64\n",
      "bool\n",
      "[1. 2. 3. 4.]\n",
      "[1 2 3 4]\n"
     ]
    },
    {
     "data": {
      "text/plain": [
       "array(['1', '2', '3'], dtype='<U11')"
      ]
     },
     "execution_count": 5,
     "metadata": {},
     "output_type": "execute_result"
    }
   ],
   "source": [
    "# Checking data types\n",
    "\n",
    "# Int, float numbers\n",
    "numpy_int_arr = np.array([1, 2, 3, 4])\n",
    "numpy_float_arr = np.array([1.1, 2.0, 3.2])\n",
    "numpy_bool_arr = np.array([-3, -2, 0, 1, 2, 3], dtype='bool')\n",
    "\n",
    "print(numpy_int_arr.dtype)\n",
    "print(numpy_float_arr.dtype)\n",
    "print(numpy_bool_arr.dtype)\n",
    "\n",
    "# Int to Float\n",
    "numpy_int_arr = np.array([1, 2, 3, 4], dtype='float')\n",
    "print(numpy_int_arr)\n",
    "\n",
    "# Float to Int\n",
    "numpy_int_arr = np.array([1., 2., 3., 4.,], dtype='int')\n",
    "print(numpy_int_arr)\n",
    "\n",
    "# Int to boolean\n",
    "np.array([-3, -2, 0, 1, 2, 3], dtype='bool')\n",
    "\n",
    "# Int to Str\n",
    "numpy_float_list = np.array([1, 2, 3])\n",
    "numpy_float_list.astype('int').astype('str')\n"
   ]
  },
  {
   "cell_type": "code",
   "execution_count": 6,
   "id": "9976bc4c",
   "metadata": {},
   "outputs": [
    {
     "name": "stdout",
     "output_type": "stream",
     "text": [
      "<class 'numpy.ndarray'>\n",
      "[[1 2 3]\n",
      " [4 5 6]\n",
      " [7 8 9]]\n",
      "Shape:  (3, 3)\n",
      "Size:  9\n",
      "Data type:  int32\n",
      "First row: [1 2 3]\n",
      "Second row: [4 5 6]\n",
      "Third row: [7 8 9]\n",
      "First column: [1 4 7]\n",
      "Second column: [2 5 8]\n",
      "Third column: [3 6 9]\n",
      "[[1 2 3]\n",
      " [4 5 6]\n",
      " [7 8 9]]\n"
     ]
    }
   ],
   "source": [
    "# Multi-dimensional Array\n",
    "two_dimensional_array = np.array([[1, 2, 3], [4, 5, 6], [7, 8, 9]])\n",
    "print(type (two_dimensional_array))\n",
    "print(two_dimensional_array)\n",
    "print('Shape: ', two_dimensional_array.shape)\n",
    "print('Size: ', two_dimensional_array.size)\n",
    "print('Data type: ', two_dimensional_array.dtype)\n",
    "\n",
    "# Getting Items from a Numpy Array\n",
    "two_dimension_array = np.array([[1, 2, 3], [4, 5, 6], [7, 8, 9]])\n",
    "first_row = two_dimension_array[0]\n",
    "second_row = two_dimension_array[1]\n",
    "third_row = two_dimension_array[2]\n",
    "print('First row:', first_row)\n",
    "print('Second row:', second_row)\n",
    "print('Third row:', third_row)\n",
    "\n",
    "first_column = two_dimension_array[:,0]\n",
    "second_column = two_dimension_array[:,1]\n",
    "third_column = two_dimension_array[:,2]\n",
    "print('First column:', first_column)\n",
    "print('Second column:', second_column)\n",
    "print('Third column:', third_column)\n",
    "print(two_dimension_array)"
   ]
  },
  {
   "cell_type": "code",
   "execution_count": 22,
   "id": "f98f8146",
   "metadata": {},
   "outputs": [
    {
     "name": "stdout",
     "output_type": "stream",
     "text": [
      "[[1 2]\n",
      " [4 5]]\n",
      "[[1 2 3]\n",
      " [4 5 6]\n",
      " [7 8 9]]\n",
      "[[ 1  2  3]\n",
      " [ 4 55 44]\n",
      " [ 7  8  9]]\n",
      "[[0 0 0]\n",
      " [0 0 0]\n",
      " [0 0 0]]\n",
      "[[1 1 1]\n",
      " [1 1 1]\n",
      " [1 1 1]]\n",
      "[[2 2 2]\n",
      " [2 2 2]\n",
      " [2 2 2]]\n"
     ]
    }
   ],
   "source": [
    "# Slicing Numpy Array\n",
    "\n",
    "two_dimension_array = np.array([[1, 2, 3], [4, 5, 6], [7, 8, 9]])\n",
    "first_two_rows_and_columns = two_dimension_array[0:2, 0:2]\n",
    "print(first_two_rows_and_columns)\n",
    "\n",
    "# Reversing whole and whole array\n",
    "two_dimension_array[::]\n",
    "\n",
    "# Reversing the row and coloumn positions\n",
    "two_dimension_array = np.array([[1, 2, 3], [4, 5, 6], [7, 8, 9]])\n",
    "two_dimension_array[::-1,::-1]\n",
    "\n",
    "# Representing missing values\n",
    "print(two_dimension_array)\n",
    "two_dimension_array[1,1] = 55\n",
    "two_dimension_array[1,2] = 44\n",
    "print(two_dimension_array)\n",
    "\n",
    "# Numpy Zeros\n",
    "numpy_zeros = np.zeros((3,3), dtype=int, order='C')\n",
    "print(numpy_zeros)\n",
    "\n",
    "# Numpy Ones\n",
    "numpy_ones = np.ones((3,3), dtype=int, order='C')\n",
    "print(numpy_ones)\n",
    "\n",
    "twoes = numpy_ones * 2\n",
    "print(twoes)"
   ]
  },
  {
   "cell_type": "code",
   "execution_count": 24,
   "id": "8842a1de",
   "metadata": {},
   "outputs": [
    {
     "name": "stdout",
     "output_type": "stream",
     "text": [
      "[[1 2 3]\n",
      " [4 5 6]]\n",
      "[[1 2]\n",
      " [3 4]\n",
      " [5 6]]\n",
      "[1 2 3 4 5 6]\n",
      "[5 7 9]\n",
      "Vertical Append: [[1 2 3]\n",
      " [4 5 6]]\n"
     ]
    }
   ],
   "source": [
    "# Reshape\n",
    "# Numpy.reshape(), numpy.flatten()\n",
    "first_shape = np.array([(1, 2, 3), (4, 5, 6)])\n",
    "print(first_shape)\n",
    "reshaped = first_shape.reshape(3,2)\n",
    "print(reshaped)\n",
    "\n",
    "flattened = reshaped.flatten()\n",
    "print(flattened)\n",
    "\n",
    "# Horizontal Stack\n",
    "np_list_one = np.array([1, 2, 3])\n",
    "np_list_two = np.array([4, 5, 6])\n",
    "print(np_list_one + np_list_two)\n",
    "\n",
    "# Vertical Stack\n",
    "\n",
    "print('Vertical Append:', np.vstack((np_list_one, np_list_two)))"
   ]
  },
  {
   "cell_type": "code",
   "execution_count": 32,
   "id": "0fa92494",
   "metadata": {},
   "outputs": [
    {
     "name": "stdout",
     "output_type": "stream",
     "text": [
      "0.06800369345349733\n",
      "[0.73392629 0.89088405 0.6244989  0.58073942 0.95189832]\n",
      "6\n",
      "[6 5 3 3]\n",
      "[[8 5 7]\n",
      " [2 4 4]\n",
      " [7 8 5]]\n",
      "[ 60.18031445  60.67028321 100.63775355  70.44721307  91.31375529\n",
      " 120.20870143  54.09938366  58.92440796  97.69514424  98.8316238\n",
      "  63.94308323  84.91862936  91.87828046  69.54792829  61.14486268\n",
      "  74.222795    70.30894727  85.01074411 106.93619666  66.64528508\n",
      "  83.761284   103.5760865   73.69983125 104.77103727  74.03130366\n",
      "  80.82264829  63.30225414  87.76024388  52.83796405  63.93560342\n",
      "  72.2345063   59.69967757  71.23040644  52.93849156  78.83553394\n",
      "  86.61344731  97.9939143   67.58552121  80.87025102  87.57526271\n",
      "  82.56881984  87.38970549  83.17304188  81.17315041  84.03651871\n",
      "  54.20806076  81.37476022  84.99207792 109.06024042  65.7311874\n",
      "  81.45329554  77.96412783  60.71156997  86.05167596  66.7692667\n",
      "  80.58681808 103.53882746  84.82398618  63.46843538  93.54468694\n",
      "  97.233466   101.6609143   78.20618956  79.73441266  64.92820898\n",
      "  77.92499068  81.72420926  79.16100068  76.18123615  75.79126918\n",
      "  79.19336876  97.93441923  83.98918402  98.72703762  68.77178637\n",
      "  62.4737785   57.55661761  97.22759776  79.9584383   59.38408792]\n"
     ]
    }
   ],
   "source": [
    "# Generating Random Numbers\n",
    "\n",
    "# Generate a random float number\n",
    "random_float = np.random.random()\n",
    "print(random_float)\n",
    "\n",
    "# Generate a random float number\n",
    "random_floats = np.random.random(5)\n",
    "print(random_floats)\n",
    "\n",
    "# Genrating a random integers between 0 and 10\n",
    "random_int = np.random.randint(0, 11)\n",
    "print(random_int)\n",
    "\n",
    "# Random integer between 2 and 11 with a row array\n",
    "random_int = np.random.randint(2, 10, size=4)\n",
    "print(random_int)\n",
    "\n",
    "# Generating a random interer between 0 and 10\n",
    "random_int = np.random.randint(2, 10, size=(3,3))\n",
    "print(random_int)\n",
    "\n",
    "# np.random.normal(mu, sigma, size)\n",
    "normal_array = np.random.normal(79, 15, 80)\n",
    "print(normal_array)\n"
   ]
  },
  {
   "cell_type": "markdown",
   "id": "10c40343",
   "metadata": {},
   "source": [
    "#### Numpy and Statistics"
   ]
  },
  {
   "cell_type": "code",
   "execution_count": 33,
   "id": "0eebf7a5",
   "metadata": {},
   "outputs": [
    {
     "data": {
      "text/plain": [
       "(array([3., 1., 0., 1., 2., 4., 1., 3., 3., 1., 3., 1., 2., 2., 1., 3., 0.,\n",
       "        2., 3., 4., 4., 4., 3., 6., 1., 4., 0., 0., 2., 0., 1., 0., 2., 3.,\n",
       "        2., 1., 1., 2., 1., 0., 1., 1., 0., 0., 0., 0., 0., 0., 0., 1.]),\n",
       " array([ 52.83796405,  54.1853788 ,  55.53279355,  56.88020829,\n",
       "         58.22762304,  59.57503779,  60.92245254,  62.26986728,\n",
       "         63.61728203,  64.96469678,  66.31211153,  67.65952627,\n",
       "         69.00694102,  70.35435577,  71.70177052,  73.04918526,\n",
       "         74.39660001,  75.74401476,  77.09142951,  78.43884425,\n",
       "         79.786259  ,  81.13367375,  82.4810885 ,  83.82850324,\n",
       "         85.17591799,  86.52333274,  87.87074749,  89.21816223,\n",
       "         90.56557698,  91.91299173,  93.26040648,  94.60782123,\n",
       "         95.95523597,  97.30265072,  98.65006547,  99.99748022,\n",
       "        101.34489496, 102.69230971, 104.03972446, 105.38713921,\n",
       "        106.73455395, 108.0819687 , 109.42938345, 110.7767982 ,\n",
       "        112.12421294, 113.47162769, 114.81904244, 116.16645719,\n",
       "        117.51387193, 118.86128668, 120.20870143]),\n",
       " <BarContainer object of 50 artists>)"
      ]
     },
     "execution_count": 33,
     "metadata": {},
     "output_type": "execute_result"
    },
    {
     "data": {
      "image/png": "[encoded data removed]",
      "text/plain": [
       "<Figure size 640x480 with 1 Axes>"
      ]
     },
     "metadata": {},
     "output_type": "display_data"
    }
   ],
   "source": [
    "from matplotlib import pyplot as plt\n",
    "import seaborn as sns\n",
    "sns.set()\n",
    "plt.hist(normal_array, color=\"grey\", bins=50)"
   ]
  },
  {
   "cell_type": "code",
   "execution_count": 37,
   "id": "96ca7e83",
   "metadata": {},
   "outputs": [
    {
     "name": "stdout",
     "output_type": "stream",
     "text": [
      "[[1. 1. 1. 1.]\n",
      " [1. 1. 1. 1.]\n",
      " [1. 1. 1. 1.]\n",
      " [1. 1. 1. 1.]]\n",
      "[[1. 1. 1. 1.]\n",
      " [1. 1. 1. 1.]\n",
      " [2. 2. 2. 2.]\n",
      " [1. 1. 1. 1.]]\n",
      "[ 0  1  2  3  4  5  6  7  8  9 10 11 12 13 14 15 16 17 18 19]\n",
      "[ 1  2  3  4  5  6  7  8  9 10 11 12 13 14 15 16 17 18 19]\n",
      "[ 1  3  5  7  9 11 13 15 17 19]\n",
      "[ 2  4  6  8 10 12 14 16 18]\n"
     ]
    }
   ],
   "source": [
    "# Matrix in numpy\n",
    "\n",
    "four_by_four_matrix = np.matrix(np.ones((4,4), dtype=float))\n",
    "print(four_by_four_matrix)\n",
    "\n",
    "np.asarray(four_by_four_matrix)[2] = 2\n",
    "print(four_by_four_matrix)\n",
    "\n",
    "# numpy.arange (start, stop, step)\n",
    "whole_numbers = np.arange(0, 20, 1)\n",
    "print(whole_numbers)\n",
    "\n",
    "natural_numbers = np.arange(1, 20, 1)\n",
    "print(natural_numbers)\n",
    "\n",
    "odd_numbers = np.arange(1, 20, 2)\n",
    "print(odd_numbers)\n",
    "\n",
    "even_numbers = np.arange(2, 20, 2)\n",
    "print(even_numbers)"
   ]
  },
  {
   "cell_type": "code",
   "execution_count": 51,
   "id": "ae2e9c1c",
   "metadata": {},
   "outputs": [
    {
     "name": "stdout",
     "output_type": "stream",
     "text": [
      "[1.         1.44444444 1.88888889 2.33333333 2.77777778 3.22222222\n",
      " 3.66666667 4.11111111 4.55555556 5.        ]\n",
      "[1.  1.8 2.6 3.4 4.2]\n",
      "[1.+0.j 2.+0.j 3.+0.j]\n",
      "16\n",
      "[[1 2 3]\n",
      " [4 5 6]]\n",
      "First row:  [1 2 3]\n",
      "Second row:  [4 5 6]\n",
      "First column:  [1 4]\n",
      "Second column:  [2 5]\n",
      "Third column:  [3 6]\n"
     ]
    }
   ],
   "source": [
    "# Creating sequence of numbers using linspace: evenly spread numbers\n",
    "\n",
    "# numpy.linspace(start, stop, num, endpoint)\n",
    "# numpy.logspage(start, stop, num, endpoint)\n",
    "\n",
    "print(np.linspace(1.0, 5.0, num=10))\n",
    "\n",
    "# To exclude last value in the interval\n",
    "print(np.linspace(1.0, 5.0, num=5, endpoint=False))\n",
    "\n",
    "# Logspace: even spaced parameter on a log scale\n",
    "np.logspace(2, 4.0, num=4)\n",
    "\n",
    "# Checking the size of an array\n",
    "x = np.array([1, 2, 3], dtype=np.complex128)\n",
    "print(x)\n",
    "print(x.itemsize)\n",
    "\n",
    "# Indexing and slicing numpy arrays in Python\n",
    "np_list = np.array([(1, 2, 3), (4, 5, 6)])\n",
    "print(np_list)\n",
    "\n",
    "print('First row: ', np_list[0])\n",
    "print('Second row: ', np_list[1])\n",
    "\n",
    "print('First column: ', np_list[:,0])\n",
    "print('Second column: ', np_list[:,1])\n",
    "print('Third column: ', np_list[:,2])"
   ]
  },
  {
   "cell_type": "code",
   "execution_count": 58,
   "id": "d050b5d2",
   "metadata": {},
   "outputs": [
    {
     "name": "stdout",
     "output_type": "stream",
     "text": [
      "[4.32648822 6.49117264 3.83541697 4.42603103 5.8380149  5.17956396\n",
      " 4.56497998 3.72853542 4.98027144 4.68046906 5.96895314 5.11605512\n",
      " 5.04607315 5.00577105 4.75481271 4.79634015 5.50810611 4.72877123\n",
      " 5.66091967 5.08364058 4.43775324 4.52530312 6.00205819 4.25734586\n",
      " 5.48122624 5.47901671 5.01422603 6.13513084 4.17765918 5.26680899\n",
      " 5.31341369 5.33775659 4.35508201 4.97075098 5.44198667 4.12615102\n",
      " 4.30521425 4.6617075  5.33466377 3.825462   4.94521964 5.08089457\n",
      " 5.81096576 5.40558465 5.74559908 5.58651603 4.91020977 5.41792015\n",
      " 4.22361841 4.9585459  4.93126171 4.80603932 5.34286277 4.97128108\n",
      " 5.75382483 5.20721759 5.2795608  5.10805838 4.62724841 4.93448167\n",
      " 4.82141881 5.01998213 4.24347234 4.53476739 4.38334216 5.10376928\n",
      " 5.47896173 5.31616037 4.34857708 5.10734474 5.17536904 4.20320561\n",
      " 5.25279618 4.69374232 4.30792956 5.65434803 4.77190995 4.94031497\n",
      " 4.61906109 4.58962485 4.62026955 5.32860767 4.62068469 3.95022009\n",
      " 4.92898246 5.91521062 4.73837168 5.07913901 4.70021726 5.04218713\n",
      " 4.45645714 5.30371046 4.92262976 3.9009966  3.92750432 4.2155752\n",
      " 5.47609179 4.77046112 4.22790848 4.92427905]\n",
      "min:  1\n",
      "max:  55\n",
      "mean:  14.777777777777779\n",
      "sd:  18.913709183069525\n",
      "[[ 1  2  3]\n",
      " [ 4 55 44]\n",
      " [ 7  8  9]]\n",
      "Column with minimum:  [1 2 3]\n",
      "Column with maximum:  [ 7 55 44]\n",
      "== Row ==\n",
      "Row with minimum:  [1 4 7]\n",
      "Row with maximum:  [ 3 55  9]\n"
     ]
    }
   ],
   "source": [
    "# Numpy Statistical Functions with Example\n",
    "\n",
    "np_normal_dis = np.random.normal(5, 0.5, 100)\n",
    "print(np_normal_dis)\n",
    "\n",
    "# min, max, mean, median, sd\n",
    "print('min: ', two_dimension_array.min())\n",
    "print('max: ', two_dimension_array.max())\n",
    "print('mean: ', two_dimension_array.mean())\n",
    "# print('median: ', two_dimension_array.median())\n",
    "print('sd: ', two_dimension_array.std())\n",
    "\n",
    "print(two_dimension_array)\n",
    "print('Column with minimum: ', np.amin(two_dimension_array, axis=0))\n",
    "print('Column with maximum: ', np.amax(two_dimension_array, axis=0))\n",
    "print('== Row ==')\n",
    "print('Row with minimum: ', np.amin(two_dimension_array, axis=1))\n",
    "print('Row with maximum: ', np.amax(two_dimension_array, axis=1))"
   ]
  },
  {
   "cell_type": "code",
   "execution_count": 73,
   "id": "5f5df630",
   "metadata": {},
   "outputs": [
    {
     "name": "stdout",
     "output_type": "stream",
     "text": [
      "Tile:  [1 2 3 1 2 3]\n",
      "Repeat:  [1 1 2 2 3 3]\n",
      "0.8068531094157878\n",
      "['u' 'o' 'i' 'e' 'o' 'e' 'a' 'o' 'i' 'a']\n",
      "[[0.03888422 0.88273406]\n",
      " [0.95830683 0.57340131]]\n",
      "[[-0.17675419 -0.70516338]\n",
      " [-0.15024782 -0.49399234]]\n",
      "[[0.66558874 0.79083954 0.2704459 ]\n",
      " [0.95853503 0.00946734 0.3485482 ]]\n",
      "[[2 9 4]\n",
      " [3 6 0]\n",
      " [9 3 7]\n",
      " [8 3 7]\n",
      " [8 5 5]]\n"
     ]
    }
   ],
   "source": [
    "# Creating a repeating sequences\n",
    "\n",
    "a = [1, 2, 3]\n",
    "\n",
    "# Repeat the whole 'a' two times\n",
    "print('Tile: ', np.tile(a, 2)) # Repeat whole of 'a' two times\n",
    "print('Repeat: ', np.repeat(a, 2)) # Repeat each element of 'a' two times\n",
    "\n",
    "# Generating Random Numbers \n",
    "one_random_num = np.random.random()\n",
    "one_random_in = np.random\n",
    "print(one_random_num)\n",
    "\n",
    "print(np.random.choice(['a', 'e', 'i', 'o', 'u'], size=10))\n",
    "\n",
    "# Random numbers between [0, 1] of shape 2, 2\n",
    "rand = np.random.rand(2, 2)\n",
    "print(rand)\n",
    "\n",
    "rand2 = np.random.randn(2, 2)\n",
    "print(rand2)\n",
    "\n",
    "# Random numbers between [0, 1) of shape 2, 3\n",
    "r = np.random.random(size=[2,3])\n",
    "print(r)\n",
    "\n",
    "# Random integers between [0, 10) of shape 2,5\n",
    "rand_int = np.random.randint(0, 10, size=[5,3])\n",
    "print(rand_int)\n",
    "\n",
    "\n",
    "\n"
   ]
  },
  {
   "cell_type": "code",
   "execution_count": 77,
   "id": "8e689bfb",
   "metadata": {},
   "outputs": [
    {
     "name": "stdout",
     "output_type": "stream",
     "text": [
      "[5.34163759 4.60603393 4.4426862  5.3819817  5.26561799 5.03644908\n",
      " 5.64027186 5.01246691 5.74068737 5.77171627 4.66008191 4.95555295\n",
      " 5.44726268 4.60234368 5.58711285 5.7066689  4.52711385 4.89391573\n",
      " 4.30919404 4.68113633 4.53238278 4.03433454 3.52091452 4.4491757\n",
      " 5.32429069 5.18119658 5.34778709 4.63701356 5.39463991 5.49160954\n",
      " 5.21172142 4.44859399 4.55927924 5.27568571 5.65834012 3.84533899\n",
      " 5.2540154  4.82389484 4.9751617  4.42214288 5.68672039 5.11792747\n",
      " 5.28271983 5.76704335 5.41190246 5.4942836  5.23079264 5.09448664\n",
      " 4.40259402 5.33031001 4.75672409 5.0863702  4.3425883  5.17064899\n",
      " 4.76592021 3.95332312 4.82811335 5.23928652 4.71632364 4.80213626\n",
      " 4.63865479 4.59599135 4.79531296 4.48375223 5.46663257 5.17708951\n",
      " 4.35447463 5.38158209 5.37941928 4.40759628 4.46515558 4.60869873\n",
      " 5.42503714 5.32304585 4.45791202 4.70619119 4.60373722 4.40282841\n",
      " 4.70931063 5.24360937 5.09342621 5.61130413 5.13346006 4.71462557\n",
      " 5.6367724  5.20504651 5.82710624 4.93772703 5.20238043 5.55931948\n",
      " 5.39659127 4.80188383 4.80133054 5.09447527 4.51796669 5.73443067\n",
      " 5.94151923 5.79387547 5.08020929 4.90842621 5.12832759 4.50853977\n",
      " 4.94965188 3.90028304 4.27555072 4.3268079  4.90301974 3.81696323\n",
      " 5.23737886 5.35411283 4.81938875 4.68260067 4.62668623 5.61605001\n",
      " 4.47214898 4.55027405 4.36027113 5.27815128 6.03890838 5.23168424\n",
      " 4.99240659 4.87700596 4.93113203 4.99633256 5.32234898 4.12420754\n",
      " 5.26362819 5.247542   5.42505111 4.36920776 5.08240547 5.66431032\n",
      " 5.3417549  4.18948402 4.94296144 5.37148786 4.82093139 4.38897264\n",
      " 4.21967303 5.50087254 5.19743739 4.98991903 4.80984947 5.86606083\n",
      " 4.27765818 4.6241007  5.28497877 6.62487049 4.75567786 4.86885936\n",
      " 5.33617001 4.75585082 4.82927429 4.31888291 5.08782186 4.18225401\n",
      " 4.05076141 4.55820217 4.00427034 4.37374316 5.36499714 4.51727108\n",
      " 4.99920403 4.44583568 5.24387368 4.70683892 5.48082572 5.18309748\n",
      " 4.51676051 5.34003439 4.78799511 4.49343209 5.36358637 4.62018947\n",
      " 5.03164779 4.48183029 4.92812995 5.86437637 4.97839823 5.20747423\n",
      " 5.72012917 4.86181049 5.73816617 5.23512565 4.82677082 4.99005187\n",
      " 4.94894223 4.866406   4.08397217 5.02777004 4.87994647 5.02547841\n",
      " 5.51499704 5.6122892  4.38061556 4.97730885 4.57160948 4.77183544\n",
      " 3.89618589 4.34001596 5.23716042 4.88147948 5.36147789 5.09380205\n",
      " 4.94102036 4.33937182 4.65149253 4.74365025 5.13926381 4.57905009\n",
      " 4.4435645  4.58327545 5.089653   4.25501018 6.52365747 4.76854396\n",
      " 4.60512529 4.92646223 4.05615396 5.91870665 4.76137256 4.32837684\n",
      " 5.51099877 4.9014827  5.65229458 5.27996806 5.100321   4.92738814\n",
      " 5.8143611  5.52297875 5.35757263 4.25985914 4.68386389 4.28975235\n",
      " 5.02086617 4.63630303 5.55391893 4.92211929 4.41147843 6.33503974\n",
      " 5.46457434 4.34890106 5.02383038 5.32287168 5.04922744 5.55738327\n",
      " 5.32472802 4.33024196 4.80041789 5.69345335 4.65188928 4.78204428\n",
      " 3.88738627 5.69098328 5.39535684 5.00200716 5.06293904 5.76175964\n",
      " 5.2652902  5.30565475 5.07133937 4.77794988 5.00663414 4.09600312\n",
      " 4.53569156 4.99029781 4.83872319 5.30815657 3.58301691 5.56177119\n",
      " 3.89293739 4.49171569 4.6317853  5.3957318  5.55153477 5.11414433\n",
      " 3.77836101 5.35757109 5.5686571  5.11015712 5.86296948 4.64312296\n",
      " 3.88173378 5.50426055 4.9583768  4.69320995 5.37704748 5.71557244\n",
      " 5.37703472 4.98272573 4.89253315 4.86303266 5.45223572 4.21158744\n",
      " 5.44062897 5.87001774 4.86492329 5.12772035 4.20008219 4.47409849\n",
      " 5.84829449 4.2597923  5.36002205 5.36219775 5.17319871 4.81771029\n",
      " 5.35771896 4.87272941 4.89614732 4.14400514 4.39412754 5.15974538\n",
      " 5.04916404 3.96521137 5.03821796 4.55446547 4.84898623 3.97832229\n",
      " 4.25830234 4.48089513 5.16072932 4.94897569 5.35221392 4.67132553\n",
      " 5.05002453 5.16332265 4.93709932 6.10117973 6.08045997 5.23953496\n",
      " 5.47195344 4.4453374  4.40408648 5.44631762 5.25538301 4.96295439\n",
      " 5.12989473 5.11801317 4.53320931 4.12954689 4.41780454 5.53723494\n",
      " 5.13031436 5.08099579 4.88746423 5.92773906 4.97719188 5.03793296\n",
      " 5.0499867  5.0367004  4.18531698 4.15986711 5.17807973 4.65459617\n",
      " 5.15629102 6.39556161 4.89654447 4.13276728 5.01141217 4.89007623\n",
      " 4.32067114 5.46178875 5.40233876 4.47110226 4.54778133 5.47194927\n",
      " 5.36000958 5.43865495 4.30596829 5.70974338 4.90070047 5.59091187\n",
      " 4.2393339  5.1346306  5.58033389 4.57241109 5.20868204 5.37518931\n",
      " 5.07075439 5.86916307 4.53686852 5.4974243  5.1267685  4.06464193\n",
      " 5.59945809 6.0753284  4.88830884 4.75213476 5.24339144 5.10051521\n",
      " 5.67508773 4.56129811 5.39268001 5.56563721 4.19890596 4.95453617\n",
      " 6.67032117 5.91527044 4.29843688 4.4267955  4.34737117 5.982342\n",
      " 5.17775468 4.77128979 5.94413675 5.54633454 5.69937881 5.09582042\n",
      " 4.68283489 5.40236734 5.77870065 4.64509804 4.84225763 5.02485018\n",
      " 4.67179204 5.66005167 4.30795162 5.05124139 3.6201594  4.65385069\n",
      " 5.34919424 5.10246183 4.91144274 4.87028029 5.18844279 4.69716026\n",
      " 4.72850836 5.35806168 4.34615862 3.91710912 6.17003875 5.51359392\n",
      " 4.56022797 4.88843733 5.44595407 4.68227472 5.01359856 5.45845228\n",
      " 4.74956246 5.72184327 4.48046195 5.74549949 4.7807189  5.76188967\n",
      " 5.18460955 4.15524706 5.0175816  5.47140257 4.67859926 4.64473658\n",
      " 4.71026738 4.49407065 4.62648705 5.01751706 5.16277602 4.57602324\n",
      " 4.71435792 4.55955171 5.85143615 4.56806386 4.20841676 5.96495709\n",
      " 5.30516334 4.97392994 5.86263041 4.05632533 6.02462398 5.03549417\n",
      " 5.39187644 5.55823513 4.78736623 4.02794483 4.17555233 5.17968014\n",
      " 5.36488804 5.28817753 4.59191036 5.45779323 5.02723331 5.22957259\n",
      " 4.93427179 5.99757854 4.24849976 4.03381329 5.02749734 5.14676092\n",
      " 4.47686698 5.30398941 4.00112824 5.11158208 5.49388687 3.94207216\n",
      " 5.2055188  5.07806532 5.01638098 5.07136663 4.65354349 5.17525651\n",
      " 5.52929053 3.91669492 4.87263632 5.18134912 5.21831374 4.24878493\n",
      " 5.50491871 5.19219949 4.59130893 4.49922541 4.94084455 5.2775036\n",
      " 4.59345462 5.18895419 4.93862369 5.26400981 5.55170727 5.16746213\n",
      " 5.03397371 4.17808602 5.46635708 4.23517135 4.89357283 4.58602751\n",
      " 4.9599253  5.65289065 4.96936089 4.83656969 4.72642904 5.28834437\n",
      " 5.67997452 5.0937264  6.07232844 5.64812787 4.83762733 4.86840296\n",
      " 4.92451593 5.57298632 5.30190927 4.9813592  4.56506136 4.08087151\n",
      " 3.85503181 4.99460015 3.80464609 4.88934754 5.53037214 5.25492983\n",
      " 4.3140463  4.97647129 4.89896256 4.09131562 5.1611138  5.67549614\n",
      " 4.73049798 4.50833539 5.21339052 5.39034964 4.93563617 4.12724613\n",
      " 5.35049739 5.09613033 5.53389243 5.26910923 5.45761615 5.34093201\n",
      " 4.60577663 4.83564015 4.82228939 5.28079898 5.7196777  5.35611112\n",
      " 4.79151979 5.09332098 4.63228831 4.88234068 5.24218244 4.48706932\n",
      " 4.33267648 4.5375935  4.75325438 4.50474634 5.55993341 5.09169684\n",
      " 3.99121196 4.35648807 4.70887922 4.5170034  5.28484629 4.84347288\n",
      " 4.52963328 4.58087389 4.8591628  4.90778795 4.83970281 4.67660481\n",
      " 4.71647978 5.78407722 5.86547301 4.39138857 4.31160947 5.42683047\n",
      " 5.58038699 4.69163005 3.85707662 4.37950643 5.06979474 5.39314823\n",
      " 5.49347598 4.63042062 5.28886692 5.28693948 5.27842829 5.34113743\n",
      " 4.63965203 5.37346704 5.45022093 4.60141775 4.93414612 5.13560628\n",
      " 4.58066305 5.66884339 4.7214863  5.4067364  5.36463987 5.58795484\n",
      " 5.81766922 5.96691973 4.91678706 4.37966092 5.0096303  4.98256596\n",
      " 4.59180467 5.17941351 4.37863464 3.86956976 6.21311671 4.38962478\n",
      " 5.48525916 5.4297584  5.59224528 4.11694397 4.95205846 4.79760785\n",
      " 4.45218806 4.50324495 6.41519804 5.14315581 4.40455818 5.02671684\n",
      " 4.9893427  5.71516227 4.53710794 5.26675779 4.98918616 5.91133442\n",
      " 6.08101926 4.8706637  4.81112852 5.71312015 5.10106711 4.72759352\n",
      " 5.09857426 4.72603382 5.93560555 4.78367013 4.88621567 5.37575748\n",
      " 5.07018529 4.15083931 4.86239637 4.44217269 5.74354874 5.57424489\n",
      " 4.49759808 5.49847996 5.19272045 4.5223292  4.87460988 4.71201499\n",
      " 5.08212413 4.80871879 4.72074389 5.23491057 5.41685828 4.30676919\n",
      " 4.02749962 5.04218068 5.51085482 4.32612131 5.09969943 4.74871606\n",
      " 4.83322806 5.29289185 5.1276663  4.56398794 4.2485732  4.40601246\n",
      " 4.87161103 5.15036873 4.89196836 4.34295423 5.9195072  4.28250539\n",
      " 5.12337135 4.65196221 5.41426652 5.45516574 4.69328931 4.3193194\n",
      " 3.91005571 5.57925769 5.23591432 3.93722066 5.00018679 4.53740759\n",
      " 5.70713059 5.28756545 5.81812906 4.79792308 5.43833768 5.22797994\n",
      " 4.92947676 5.01499161 5.5152723  5.24769617 4.73715805 5.25163984\n",
      " 4.66308103 4.53855629 4.74506857 5.26600076 4.3660163  5.44255005\n",
      " 5.78570581 4.78052726 5.7023007  4.87550325 5.32849861 5.14964417\n",
      " 6.11243338 4.95432317 4.40163672 4.91362432 5.33671689 4.35149125\n",
      " 5.43260084 5.57592416 5.28675146 5.05328856 3.88767658 5.35561539\n",
      " 4.27566876 5.19413252 4.10713236 5.79204949 4.83024168 5.1213573\n",
      " 4.64062659 5.11731907 5.16147752 5.05014111 4.59381773 5.66093225\n",
      " 4.26389198 4.95361901 4.60878131 4.86075204 5.53063894 4.07623361\n",
      " 5.49348381 5.842347   4.27079804 4.99314921 5.19819599 4.99103577\n",
      " 4.09718088 5.87132822 5.22222006 4.75586902 4.87855786 5.3890701\n",
      " 5.45810155 4.83696983 4.88997249 4.82309229 5.16731037 4.66589699\n",
      " 5.66465127 4.6787222  5.35175098 6.0186465  5.26200857 5.88742329\n",
      " 5.18976392 4.99663374 4.81165142 5.52124059 5.00136154 5.20413578\n",
      " 5.0108949  4.92502059 4.96332876 5.39936249 5.38099766 4.66172713\n",
      " 4.61773803 4.86927541 4.62985179 5.72474846 4.50514847 5.0762481\n",
      " 4.16788535 5.48292786 4.38772771 4.84967144 4.21525859 4.90523795\n",
      " 4.11740262 5.48858052 3.88528984 5.03694193 4.34331625 4.92088662\n",
      " 4.98883463 4.46682964 5.00129364 4.46411527 4.45110651 5.56187141\n",
      " 4.77222644 5.2695584  4.61809742 4.68499336 4.92882768 5.024546\n",
      " 5.91510026 5.23654821 5.40199079 5.65248689 5.39034737 4.12963159\n",
      " 4.99292398 5.75053919 5.18888865 4.69685354 5.27209817 4.7131577\n",
      " 4.58692422 6.60300976 4.87818019 4.84586376 5.12172795 4.94458908\n",
      " 6.03238662 5.660067   4.96629601 5.2777855  6.1069044  5.33859559\n",
      " 5.21372735 4.471356   5.17994126 5.40178753 5.48723227 5.06787549\n",
      " 5.18055013 5.64212952 4.55257842 3.94612936 5.17256415 4.56491707\n",
      " 5.58992293 4.16461025 4.76386214 5.79492773 4.71848775 4.53016236\n",
      " 4.51487145 6.20910913 5.72583828 5.26876698 4.71667731 4.73614796\n",
      " 5.34710444 6.02449797 4.79704505 4.6307289  4.76017272 5.24906087\n",
      " 4.28532436 5.22899978 4.77605055 5.6153979  6.1179984  5.25301333\n",
      " 4.82147515 4.80444579 5.47972321 6.54928071 4.92002262 5.47905479\n",
      " 3.81871396 4.39392574 4.30697612 5.61777842 5.35626499 4.2591721\n",
      " 5.25605294 5.00544991 5.05490192 5.16604593 5.33662804 5.87177552\n",
      " 4.97058588 5.58481743 5.34411724 4.89303541 4.70603958 4.62920205\n",
      " 4.96567601 5.29390822 5.75945979 4.77596803 5.55890276 4.72501434\n",
      " 5.47530383 5.36402471 5.17609777 4.75467311 4.93945983 4.24105571\n",
      " 5.04930536 5.06441904 4.92763362 4.94050493 4.9307419  4.17078463\n",
      " 5.15828055 5.60383128 5.55101314 5.34691357 4.29704451 5.04719757\n",
      " 4.98112215 5.1046683  4.9236656  4.1878537  5.12553143 5.21452847\n",
      " 4.85169671 4.80990663 5.27555186 5.31397399 4.73496002 5.53100796\n",
      " 5.62462944 5.1628558  4.60769966 5.59904028 4.93211292 4.79491461\n",
      " 5.61892841 5.42091512 4.98348716 4.47417483 4.85099285 4.15226649\n",
      " 5.51728902 5.15957364 4.47845261 5.13570957 5.5606836  5.82328935\n",
      " 4.15301463 4.97492537 5.39046681 5.02493097 4.87166134 4.25381611\n",
      " 5.47779468 5.26163464 4.60938253 5.16584258 5.19688353 4.41938685\n",
      " 4.61304295 4.65736248 4.22795684 4.48459513 4.96259944 4.91795702\n",
      " 4.75380182 6.08986165 5.25795684 3.77460238 4.95595772 5.22015206\n",
      " 5.56496837 4.66398326 5.30707774 5.32385533]\n",
      "min:  3.5209145191252267\n",
      "max:  6.670321167696267\n",
      "mean:  4.99321612724252\n",
      "median:  4.99387467638301\n",
      "sd:  0.5203779043726718\n"
     ]
    },
    {
     "data": {
      "image/png": "[encoded data removed]",
      "text/plain": [
       "<Figure size 640x480 with 1 Axes>"
      ]
     },
     "metadata": {},
     "output_type": "display_data"
    }
   ],
   "source": [
    "import scipy.stats\n",
    "np_normal_dis = np.random.normal(5, 0.5, 1000) #mean, std, no. of samples\n",
    "print(np_normal_dis)\n",
    "\n",
    "# min, max, mean, median, sd\n",
    "print('min: ', np.min(np_normal_dis))\n",
    "print('max: ', np.max(np_normal_dis))\n",
    "print('mean: ', np.mean(np_normal_dis))\n",
    "print('median: ', np.median(np_normal_dis))\n",
    "print('sd: ', np.std(np_normal_dis))\n",
    "\n",
    "plt.hist(np_normal_dis, color='grey', bins=21)\n",
    "plt.show()"
   ]
  },
  {
   "cell_type": "code",
   "execution_count": 88,
   "id": "d4d6d8d7",
   "metadata": {},
   "outputs": [
    {
     "name": "stdout",
     "output_type": "stream",
     "text": [
      "23\n",
      "[[19 22]\n",
      " [43 50]]\n",
      "-2.000000000000005\n"
     ]
    },
    {
     "data": {
      "text/plain": [
       "array([[0., 1., 0., 1., 0., 1., 0., 1.],\n",
       "       [1., 0., 1., 0., 1., 0., 1., 0.],\n",
       "       [0., 1., 0., 1., 0., 1., 0., 1.],\n",
       "       [1., 0., 1., 0., 1., 0., 1., 0.],\n",
       "       [0., 1., 0., 1., 0., 1., 0., 1.],\n",
       "       [1., 0., 1., 0., 1., 0., 1., 0.],\n",
       "       [0., 1., 0., 1., 0., 1., 0., 1.],\n",
       "       [1., 0., 1., 0., 1., 0., 1., 0.]])"
      ]
     },
     "execution_count": 88,
     "metadata": {},
     "output_type": "execute_result"
    }
   ],
   "source": [
    "# Linear Algebra\n",
    "\n",
    "# Dot Product: product of two arrays\n",
    "\n",
    "f = np.array([1, 2, 3])\n",
    "g = np.array([4, 5, 3])\n",
    "### 1*4 + 2*5 + 3*3 = 23\n",
    "print(np.dot(f, g))\n",
    "\n",
    "# Numpy Matrix Multiplicarion with np.matmul()\n",
    "h = [[1, 2], [3, 4]]\n",
    "i = [[5, 6], [7, 8]]\n",
    "### 1*5 + 2*7 = 19\n",
    "print(np.matmul(h,i))\n",
    "\n",
    "# Determinant of 2*2 matrix\n",
    "print(np.linalg.det(i)) ### 5*8 - 7*6\n",
    "\n",
    "Z = np.zeros((8,8))\n",
    "Z[1::2, ::2] = 1\n",
    "Z[::2, 1::2] = 1\n",
    "Z"
   ]
  },
  {
   "cell_type": "code",
   "execution_count": 95,
   "id": "23c5c479",
   "metadata": {},
   "outputs": [
    {
     "name": "stdout",
     "output_type": "stream",
     "text": [
      "[2, 3, 4, 5, 6, 7, 8, 9, 10, 11, 12]\n",
      "[ 2  3  4  5  6  7  8  9 10 11 12]\n",
      "[ 7  9 11 13 15]\n"
     ]
    },
    {
     "data": {
      "image/png": "[encoded data removed]",
      "text/plain": [
       "<Figure size 640x480 with 1 Axes>"
      ]
     },
     "metadata": {},
     "output_type": "display_data"
    }
   ],
   "source": [
    "new_list = [x + 2 for x in range(0, 11)]\n",
    "print(new_list)\n",
    "\n",
    "np_arr = np.array(range(0, 11))\n",
    "print(np_arr + 2)\n",
    "\n",
    "# Linear equation is used for quantities which have linear relationship\n",
    "temp = np.array([1, 2, 3, 4, 5])\n",
    "pressure = temp * 2 + 5\n",
    "print(pressure)\n",
    "\n",
    "plt.plot(temp, pressure)\n",
    "plt.xlabel('Temperature in oC')\n",
    "plt.ylabel('Pressure in atm')\n",
    "plt.title('Temperature vs Pressure')\n",
    "plt.xticks(np.arange(0, 6, step=0.5))\n",
    "plt.show()"
   ]
  },
  {
   "cell_type": "code",
   "execution_count": 98,
   "id": "fc2c44cd",
   "metadata": {},
   "outputs": [
    {
     "data": {
      "image/png": "[encoded data removed]",
      "text/plain": [
       "<Figure size 500x500 with 1 Axes>"
      ]
     },
     "metadata": {},
     "output_type": "display_data"
    }
   ],
   "source": [
    "# Gaussian normal distribution uisng numpy\n",
    "\n",
    "mu = 28\n",
    "sigma = 15\n",
    "samples = 100000\n",
    "\n",
    "x = np.random.normal(mu, sigma, samples)\n",
    "ax = sns.displot(x);\n",
    "ax.set(xlabel=\"x\", ylabel=\"y\")\n",
    "plt.show()"
   ]
  },
  {
   "cell_type": "markdown",
   "id": "a73a46d5",
   "metadata": {},
   "source": [
    "### Pandas"
   ]
  },
  {
   "cell_type": "code",
   "execution_count": 104,
   "id": "353365b5",
   "metadata": {},
   "outputs": [
    {
     "name": "stdout",
     "output_type": "stream",
     "text": [
      "0    1\n",
      "1    2\n",
      "2    3\n",
      "3    4\n",
      "4    5\n",
      "dtype: int64\n",
      "1    1\n",
      "2    2\n",
      "3    3\n",
      "4    4\n",
      "5    5\n",
      "dtype: int64\n",
      "1    Orange\n",
      "2    Banana\n",
      "3     Mango\n",
      "dtype: object\n",
      "name       Asabeneh\n",
      "country     Finland\n",
      "city       Helsinki\n",
      "dtype: object\n",
      "1    10\n",
      "2    10\n",
      "3    10\n",
      "dtype: int64\n",
      "0     5.000000\n",
      "1     6.666667\n",
      "2     8.333333\n",
      "3    10.000000\n",
      "4    11.666667\n",
      "5    13.333333\n",
      "6    15.000000\n",
      "7    16.666667\n",
      "8    18.333333\n",
      "9    20.000000\n",
      "dtype: float64\n"
     ]
    }
   ],
   "source": [
    "# Importing Pandas\n",
    "\n",
    "import pandas as pd\n",
    "import numpy as np\n",
    "\n",
    "# Creating pandas series with default index\n",
    "nums = [1, 2, 3, 4, 5]\n",
    "s = pd.Series(nums)\n",
    "print(s)\n",
    "\n",
    "# Creating pandas series with custom index\n",
    "nums = [1, 2, 3, 4, 5]\n",
    "s = pd.Series(nums, index=[1, 2, 3, 4, 5])\n",
    "print(s)\n",
    "\n",
    "fruits = ['Orange', 'Banana', 'Mango']\n",
    "fruits = pd.Series(fruits, index=[1, 2, 3])\n",
    "print(fruits)\n",
    "\n",
    "# Creating pandas series from a dictionary\n",
    "dct = {'name':'Asabeneh', 'country':'Finland', 'city':'Helsinki'}\n",
    "s = pd.Series(dct)\n",
    "print(s)\n",
    "\n",
    "# Creating a constant pandas series\n",
    "s = pd.Series(10, index = [1, 2, 3])\n",
    "print(s)\n",
    "\n",
    "# Creating a pandas series using linspace\n",
    "s = pd.Series(np.linspace(5, 20, 10)) # (start, end, items)\n",
    "print(s)"
   ]
  },
  {
   "cell_type": "code",
   "execution_count": 107,
   "id": "44e1e606",
   "metadata": {},
   "outputs": [
    {
     "name": "stdout",
     "output_type": "stream",
     "text": [
      "      Names  Country       City\n",
      "0  Asabeneh  Finland    Helsink\n",
      "1     David       UK     London\n",
      "2      John   Sweden  Stockholm\n",
      "       Name  Country       City\n",
      "0  Asabeneh  Finland    Helsiki\n",
      "1     David       UK     London\n",
      "2      John  Sweeden  Stockholm\n"
     ]
    },
    {
     "name": "stdout",
     "output_type": "stream",
     "text": [
      "       Name  Country       City\n",
      "0  Asabeneh  Finland   Helsinki\n",
      "1     David       UK     London\n",
      "2      John   Sweden  Stockholm\n"
     ]
    }
   ],
   "source": [
    "# DataFrames\n",
    "\n",
    "# Creating DataFrames from List of Lists\n",
    "\n",
    "data = [\n",
    "['Asabeneh', 'Finland', 'Helsink'],\n",
    "['David', 'UK', 'London'],\n",
    "['John', 'Sweden', 'Stockholm']\n",
    "]\n",
    "\n",
    "df = pd.DataFrame(data, columns=['Names', 'Country', 'City'])\n",
    "print(df)\n",
    "\n",
    "# Creating DataFrames using dictionary\n",
    "\n",
    "data = {'Name': ['Asabeneh', 'David', 'John'],\n",
    "        'Country': ['Finland', 'UK', 'Sweeden'],\n",
    "        'City': ['Helsiki', 'London', 'Stockholm']\n",
    "        }\n",
    "\n",
    "df = pd.DataFrame(data)\n",
    "print(df)\n",
    "\n",
    "#  Creating DataFrames from a list of dictionaries\n",
    "\n",
    "data = [\n",
    "    {'Name':'Asabeneh', 'Country':'Finland', 'City':'Helsinki'},\n",
    "    {'Name':'David', 'Country':'UK', 'City':'London'},\n",
    "    {'Name':'John', 'Country':'Sweden', 'City':'Stockholm'}\n",
    "]\n",
    "\n",
    "df = pd.DataFrame(data)\n",
    "print(df)"
   ]
  },
  {
   "cell_type": "code",
   "execution_count": 116,
   "id": "d7b73c70",
   "metadata": {},
   "outputs": [
    {
     "name": "stdout",
     "output_type": "stream",
     "text": [
      "      Gender     Height      Weight\n",
      "0       Male  73.847017  241.893563\n",
      "1       Male  68.781904  162.310473\n",
      "2       Male  74.110105  212.740856\n",
      "3       Male  71.730978  220.042470\n",
      "4       Male  69.881796  206.349801\n",
      "...      ...        ...         ...\n",
      "9995  Female  66.172652  136.777454\n",
      "9996  Female  67.067155  170.867906\n",
      "9997  Female  63.867992  128.475319\n",
      "9998  Female  69.034243  163.852461\n",
      "9999  Female  61.944246  113.649103\n",
      "\n",
      "[10000 rows x 3 columns]\n",
      "  Gender     Height      Weight\n",
      "0   Male  73.847017  241.893563\n",
      "1   Male  68.781904  162.310473\n",
      "2   Male  74.110105  212.740856\n",
      "3   Male  71.730978  220.042470\n",
      "4   Male  69.881796  206.349801\n",
      "      Gender     Height      Weight\n",
      "9995  Female  66.172652  136.777454\n",
      "9996  Female  67.067155  170.867906\n",
      "9997  Female  63.867992  128.475319\n",
      "9998  Female  69.034243  163.852461\n",
      "9999  Female  61.944246  113.649103\n",
      "(10000, 3)\n",
      "Index(['Gender', 'Height', 'Weight'], dtype='object')\n",
      "0       73.847017\n",
      "1       68.781904\n",
      "2       74.110105\n",
      "3       71.730978\n",
      "4       69.881796\n",
      "          ...    \n",
      "9995    66.172652\n",
      "9996    67.067155\n",
      "9997    63.867992\n",
      "9998    69.034243\n",
      "9999    61.944246\n",
      "Name: Height, Length: 10000, dtype: float64\n",
      "0       241.893563\n",
      "1       162.310473\n",
      "2       212.740856\n",
      "3       220.042470\n",
      "4       206.349801\n",
      "           ...    \n",
      "9995    136.777454\n",
      "9996    170.867906\n",
      "9997    128.475319\n",
      "9998    163.852461\n",
      "9999    113.649103\n",
      "Name: Weight, Length: 10000, dtype: float64\n",
      "True\n",
      "count    10000.000000\n",
      "mean        66.367560\n",
      "std          3.847528\n",
      "min         54.263133\n",
      "25%         63.505620\n",
      "50%         66.318070\n",
      "75%         69.174262\n",
      "max         78.998742\n",
      "Name: Height, dtype: float64\n",
      "count    10000.000000\n",
      "mean       161.440357\n",
      "std         32.108439\n",
      "min         64.700127\n",
      "25%        135.818051\n",
      "50%        161.212928\n",
      "75%        187.169525\n",
      "max        269.989699\n",
      "Name: Weight, dtype: float64\n",
      "<class 'pandas.core.series.Series'>\n",
      "RangeIndex: 10000 entries, 0 to 9999\n",
      "Series name: Height\n",
      "Non-Null Count  Dtype  \n",
      "--------------  -----  \n",
      "10000 non-null  float64\n",
      "dtypes: float64(1)\n",
      "memory usage: 78.2 KB\n",
      "None\n",
      "<class 'pandas.core.series.Series'>\n",
      "RangeIndex: 10000 entries, 0 to 9999\n",
      "Series name: Weight\n",
      "Non-Null Count  Dtype  \n",
      "--------------  -----  \n",
      "10000 non-null  float64\n",
      "dtypes: float64(1)\n",
      "memory usage: 78.2 KB\n",
      "None\n"
     ]
    }
   ],
   "source": [
    "# Reading CSV file using pandas\n",
    "\n",
    "import pandas as pd\n",
    "\n",
    "df = pd.read_csv('weight-height.csv')\n",
    "print(df)\n",
    "\n",
    "# Data Exploration\n",
    "print(df.head()) # First five rows\n",
    "print(df.tail()) # Last five rows\n",
    "print(df.shape) # No of rows and columns\n",
    "print(df.columns) # List of columns\n",
    "\n",
    "# Accessing a specific columns\n",
    "heights = df['Height']\n",
    "print(heights)\n",
    "\n",
    "weights = df['Weight']\n",
    "print(weights)\n",
    "\n",
    "print(len(heights) == len(weights)) # True\n",
    "\n",
    "# Descriptive Statistical Values\n",
    "print(heights.describe())\n",
    "print(weights.describe())\n",
    "\n",
    "# Provide Information about datasets\n",
    "print(heights.info())\n",
    "print(weights.info())\n"
   ]
  },
  {
   "cell_type": "code",
   "execution_count": 134,
   "id": "a4656462",
   "metadata": {},
   "outputs": [
    {
     "name": "stdout",
     "output_type": "stream",
     "text": [
      "       Name  Country       City\n",
      "0  Asabeneh  Finland   Helsinki\n",
      "1     David       UK     London\n",
      "2      John   Sweden  Stockholm\n",
      "\n",
      "        Name  Country       City  Weight\n",
      "0  Asabeneh  Finland   Helsinki      74\n",
      "1     David       UK     London      78\n",
      "2      John   Sweden  Stockholm      69\n",
      "\n",
      "        Name  Country       City  Weight  Height\n",
      "0  Asabeneh  Finland   Helsinki      74     173\n",
      "1     David       UK     London      78     175\n",
      "2      John   Sweden  Stockholm      69     169\n",
      "       Name  Country       City  Weight  Height        BMI\n",
      "0  Asabeneh  Finland   Helsinki      74    1.73  24.725183\n",
      "1     David       UK     London      78    1.75  25.469388\n",
      "2      John   Sweden  Stockholm      69    1.69  24.158818\n",
      "       Name  Country       City  Weight  Height   BMI\n",
      "0  Asabeneh  Finland   Helsinki      74    1.73  24.7\n",
      "1     David       UK     London      78    1.75  25.5\n",
      "2      John   Sweden  Stockholm      69    1.69  24.2\n",
      "       Name  Country       City  Weight  Height   BMI Birth Year  Current Year\n",
      "0  Asabeneh  Finland   Helsinki      74    1.73  24.7       1769          2020\n",
      "1     David       UK     London      78    1.75  25.5       1985          2020\n",
      "2      John   Sweden  Stockholm      69    1.69  24.2       1990          2020\n"
     ]
    }
   ],
   "source": [
    "# Modifying a DataFrame\n",
    "\n",
    "import pandas as pd\n",
    "import numpy as np\n",
    "\n",
    "data = [\n",
    "    {\"Name\":\"Asabeneh\", \"Country\":\"Finland\", \"City\":\"Helsinki\"},\n",
    "    {\"Name\":\"David\", \"Country\":\"UK\", \"City\":\"London\"},\n",
    "    {\"Name\":\"John\", \"Country\":\"Sweden\", \"City\":\"Stockholm\"}\n",
    "]\n",
    "\n",
    "df = pd.DataFrame(data)\n",
    "print(df)\n",
    "\n",
    "# Adding a New Column\n",
    "weights = [74, 78, 69]\n",
    "df['Weight'] = weights\n",
    "print('\\n', df)\n",
    "\n",
    "heights = [173, 175, 169]\n",
    "df['Height'] = heights\n",
    "print('\\n', df)\n",
    "\n",
    "df['Height'] = df['Height'] * 0.01 # Convert heights from cm to m\n",
    "\n",
    "# Calculate BMI using functions\n",
    "def calculate_bmi():\n",
    "    weights = df['Weight']\n",
    "    heights = df['Height']\n",
    "    bmi = []\n",
    "    for w, h in zip(weights, heights):\n",
    "        b = w/(h*h)\n",
    "        bmi.append(b)\n",
    "    return bmi\n",
    "\n",
    "bmi = calculate_bmi()\n",
    "\n",
    "df['BMI'] = bmi\n",
    "print(df)\n",
    "\n",
    "# Formatting DataFrame columns\n",
    "df['BMI'] = round(df['BMI'], 1)\n",
    "print(df)\n",
    "\n",
    "birth_year = ['1769', '1985', '1990']\n",
    "current_year = pd.Series(2020, index=[0, 1, 2])\n",
    "df['Birth Year'] = birth_year\n",
    "df['Current Year'] = current_year\n",
    "print(df)\n"
   ]
  },
  {
   "cell_type": "code",
   "execution_count": 155,
   "id": "19a96a23",
   "metadata": {},
   "outputs": [
    {
     "name": "stdout",
     "output_type": "stream",
     "text": [
      "int64\n",
      "int32\n",
      "int32\n",
      "int32\n",
      "       Name  Country       City  Weight  Height   BMI  Birth Year  \\\n",
      "0  Asabeneh  Finland   Helsinki      74    1.73  24.7        1769   \n",
      "1     David       UK     London      78    1.75  25.5        1985   \n",
      "2      John   Sweden  Stockholm      69    1.69  24.2        1990   \n",
      "\n",
      "   Current Year  Ages  \n",
      "0          2020   251  \n",
      "1          2020    35  \n",
      "2          2020    30  \n",
      "Mean:  32.5\n",
      "       Name  Country      City  Weight  Height   BMI  Birth Year  \\\n",
      "0  Asabeneh  Finland  Helsinki      74    1.73  24.7        1769   \n",
      "\n",
      "   Current Year  Ages  \n",
      "0          2020   251  \n",
      "    Name Country       City  Weight  Height   BMI  Birth Year  Current Year  \\\n",
      "1  David      UK     London      78    1.75  25.5        1985          2020   \n",
      "2   John  Sweden  Stockholm      69    1.69  24.2        1990          2020   \n",
      "\n",
      "   Ages  \n",
      "1    35  \n",
      "2    30  \n"
     ]
    }
   ],
   "source": [
    "# Checking data types of columns values\n",
    "print(df.Weight.dtype) # Weight datatype\n",
    "\n",
    "print(df['Birth Year'].dtype) # Height datatype - object\n",
    "df['Birth Year'] = df['Birth Year'].astype('int') # Convert to integers\n",
    "print(df['Birth Year'].dtype)\n",
    "\n",
    "df['Current Year'] = df['Current Year'].astype('int') # Convert datatype of int\n",
    "print(df['Current Year'].dtype)\n",
    "\n",
    "ages = df['Current Year'] - df['Birth Year'] # Calculate age\n",
    "df['Ages'] = ages\n",
    "\n",
    "print(df)\n",
    "\n",
    "mean = (35 + 30) / 2\n",
    "print('Mean: ', mean)\n",
    "\n",
    "# Boolean Indexing\n",
    "print(df[df['Ages'] > 120]) # Age greater than 120 years\n",
    "\n",
    "print(df[df['Ages'] < 120]) # Age less than 120 years\n",
    "\n"
   ]
  },
  {
   "cell_type": "markdown",
   "id": "b278877f",
   "metadata": {},
   "source": [
    "### Pandas Exercises"
   ]
  },
  {
   "cell_type": "code",
   "execution_count": 164,
   "id": "50e27692",
   "metadata": {},
   "outputs": [
    {
     "name": "stdout",
     "output_type": "stream",
     "text": [
      "         id                                              title  \\\n",
      "0  12224879                          Interactive Dynamic Video   \n",
      "1  11964716  Florida DJs May Face Felony for April Fools' W...   \n",
      "2  11919867       Technology ventures: From Idea to Enterprise   \n",
      "3  10301696  Note by Note: The Making of Steinway L1037 (2007)   \n",
      "4  10482257  Title II kills investment? Comcast and other I...   \n",
      "\n",
      "                                                 url  num_points  \\\n",
      "0            http://www.interactivedynamicvideo.com/         386   \n",
      "1  http://www.thewire.com/entertainment/2013/04/f...           2   \n",
      "2  https://www.amazon.com/Technology-Ventures-Ent...           3   \n",
      "3  http://www.nytimes.com/2007/11/07/movies/07ste...           8   \n",
      "4  http://arstechnica.com/business/2015/10/comcas...          53   \n",
      "\n",
      "   num_comments      author       created_at  \n",
      "0            52    ne0phyte   8/4/2016 11:52  \n",
      "1             1    vezycash  6/23/2016 22:20  \n",
      "2             1     hswarna   6/17/2016 0:01  \n",
      "3             2  walterbell   9/30/2015 4:12  \n",
      "4            22      Deinos  10/31/2015 9:48  \n",
      "\n",
      "              id                                              title  \\\n",
      "20094  12379592  How Purism Avoids Intels Active Management Tec...   \n",
      "20095  10339284          YC Application Translated and Broken Down   \n",
      "20096  10824382  Microkernels are slow and Elvis didn't do no d...   \n",
      "20097  10739875                      How Product Hunt really works   \n",
      "20098  11680777  RoboBrowser: Your friendly neighborhood web sc...   \n",
      "\n",
      "                                                     url  num_points  \\\n",
      "20094  https://puri.sm/philosophy/how-purism-avoids-i...          10   \n",
      "20095  https://medium.com/@zreitano/the-yc-applicatio...           4   \n",
      "20096  http://blog.darknedgy.net/technology/2016/01/0...         169   \n",
      "20097  https://medium.com/@benjiwheeler/how-product-h...         695   \n",
      "20098              https://github.com/jmcarp/robobrowser         182   \n",
      "\n",
      "       num_comments         author        created_at  \n",
      "20094             6  AdmiralAsshat    8/29/2016 2:22  \n",
      "20095             1       zreitano   10/6/2015 14:57  \n",
      "20096           132    vezzy-fnord     1/2/2016 0:49  \n",
      "20097           222          brw12  12/15/2015 19:32  \n",
      "20098            58      pmoriarty    5/12/2016 1:43  \n",
      "\n",
      " 0                                Interactive Dynamic Video\n",
      "1        Florida DJs May Face Felony for April Fools' W...\n",
      "2             Technology ventures: From Idea to Enterprise\n",
      "3        Note by Note: The Making of Steinway L1037 (2007)\n",
      "4        Title II kills investment? Comcast and other I...\n",
      "                               ...                        \n",
      "20094    How Purism Avoids Intels Active Management Tec...\n",
      "20095            YC Application Translated and Broken Down\n",
      "20096    Microkernels are slow and Elvis didn't do no d...\n",
      "20097                        How Product Hunt really works\n",
      "20098    RoboBrowser: Your friendly neighborhood web sc...\n",
      "Name: title, Length: 20099, dtype: object\n",
      "\n",
      " (20099, 7)\n",
      "\n",
      " 0        False\n",
      "1        False\n",
      "2        False\n",
      "3        False\n",
      "4        False\n",
      "         ...  \n",
      "20094    False\n",
      "20095    False\n",
      "20096    False\n",
      "20097    False\n",
      "20098    False\n",
      "Name: title, Length: 20099, dtype: bool\n",
      "\n",
      " 0        False\n",
      "1        False\n",
      "2        False\n",
      "3        False\n",
      "4        False\n",
      "         ...  \n",
      "20094    False\n",
      "20095    False\n",
      "20096    False\n",
      "20097    False\n",
      "20098    False\n",
      "Name: title, Length: 20099, dtype: bool\n",
      "<class 'pandas.core.frame.DataFrame'>\n",
      "RangeIndex: 20099 entries, 0 to 20098\n",
      "Data columns (total 7 columns):\n",
      " #   Column        Non-Null Count  Dtype \n",
      "---  ------        --------------  ----- \n",
      " 0   id            20099 non-null  int64 \n",
      " 1   title         20099 non-null  object\n",
      " 2   url           17659 non-null  object\n",
      " 3   num_points    20099 non-null  int64 \n",
      " 4   num_comments  20099 non-null  int64 \n",
      " 5   author        20099 non-null  object\n",
      " 6   created_at    20099 non-null  object\n",
      "dtypes: int64(3), object(4)\n",
      "memory usage: 1.1+ MB\n"
     ]
    }
   ],
   "source": [
    "import pandas as pd\n",
    "\n",
    "# Read the hacker_news.csv file from data directory\n",
    "data = '../data/hacker_news.csv'\n",
    "df = pd.read_csv(data)\n",
    "\n",
    "# Get the first five rows\n",
    "print(df.head())\n",
    "\n",
    "# Get the last five rows\n",
    "print('\\n', df.tail())\n",
    "\n",
    "# Get the title column as pandas series\n",
    "print('\\n', df['title'])\n",
    "\n",
    "# Count the number of rows and columns\n",
    "print('\\n', df.shape)\n",
    "\n",
    "# Filter the titles which contain python\n",
    "print('\\n', df['title'] == 'python')\n",
    "\n",
    "# Filter the titles which contain JavaScript\n",
    "print('\\n', df['title'] == 'JavaScript')"
   ]
  },
  {
   "cell_type": "code",
   "execution_count": 167,
   "id": "3038806b",
   "metadata": {},
   "outputs": [
    {
     "data": {
      "application/vnd.microsoft.datawrangler.viewer.v0+json": {
       "columns": [
        {
         "name": "author",
         "rawType": "object",
         "type": "string"
        },
        {
         "name": "count",
         "rawType": "int64",
         "type": "integer"
        }
       ],
       "ref": "85d43d49-fb87-4995-aa74-4c68a5eac5af",
       "rows": [
        [
         "ingve",
         "198"
        ],
        [
         "prostoalex",
         "123"
        ],
        [
         "dnetesn",
         "98"
        ],
        [
         "jseliger",
         "85"
        ],
        [
         "jonbaer",
         "85"
        ],
        [
         "bootload",
         "71"
        ],
        [
         "walterbell",
         "71"
        ],
        [
         "Tomte",
         "60"
        ],
        [
         "doener",
         "57"
        ],
        [
         "nkurz",
         "56"
        ],
        [
         "okket",
         "54"
        ],
        [
         "luu",
         "52"
        ],
        [
         "edward",
         "51"
        ],
        [
         "pavornyoh",
         "48"
        ],
        [
         "Amorymeltzer",
         "48"
        ],
        [
         "shawndumas",
         "47"
        ],
        [
         "Jerry2",
         "44"
        ],
        [
         "jackgavigan",
         "43"
        ],
        [
         "danso",
         "42"
        ],
        [
         "adamnemecek",
         "42"
        ],
        [
         "DiabloD3",
         "42"
        ],
        [
         "hvo",
         "42"
        ],
        [
         "randomname2",
         "41"
        ],
        [
         "pmcpinto",
         "41"
        ],
        [
         "uptown",
         "40"
        ],
        [
         "kawera",
         "40"
        ],
        [
         "based2",
         "40"
        ],
        [
         "wslh",
         "39"
        ],
        [
         "petethomas",
         "39"
        ],
        [
         "signa11",
         "39"
        ],
        [
         "coloneltcb",
         "36"
        ],
        [
         "jimsojim",
         "36"
        ],
        [
         "rmason",
         "35"
        ],
        [
         "protomyth",
         "34"
        ],
        [
         "ohjeez",
         "33"
        ],
        [
         "vmorgulis",
         "33"
        ],
        [
         "e15ctr0n",
         "33"
        ],
        [
         "samclemens",
         "32"
        ],
        [
         "bpierre",
         "32"
        ],
        [
         "benbreen",
         "32"
        ],
        [
         "dwaxe",
         "32"
        ],
        [
         "tokenadult",
         "32"
        ],
        [
         "aaronbrethorst",
         "31"
        ],
        [
         "Thevet",
         "31"
        ],
        [
         "ourmandave",
         "30"
        ],
        [
         "wallflower",
         "30"
        ],
        [
         "ashitlerferad",
         "29"
        ],
        [
         "networked",
         "29"
        ],
        [
         "jgrahamc",
         "28"
        ],
        [
         "Oatseller",
         "27"
        ]
       ],
       "shape": {
        "columns": 1,
        "rows": 10382
       }
      },
      "text/plain": [
       "author\n",
       "ingve         198\n",
       "prostoalex    123\n",
       "dnetesn        98\n",
       "jseliger       85\n",
       "jonbaer        85\n",
       "             ... \n",
       "grobie          1\n",
       "magoghm         1\n",
       "VinceD01        1\n",
       "chrtze          1\n",
       "brw12           1\n",
       "Name: count, Length: 10382, dtype: int64"
      ]
     },
     "execution_count": 167,
     "metadata": {},
     "output_type": "execute_result"
    }
   ],
   "source": [
    "# Explore the data and make sense of it\n",
    "df.info()\n",
    "\n",
    "df['author'].value_counts() # Top authors"
   ]
  }
 ],
 "metadata": {
  "kernelspec": {
   "display_name": "Python 3",
   "language": "python",
   "name": "python3"
  },
  "language_info": {
   "codemirror_mode": {
    "name": "ipython",
    "version": 3
   },
   "file_extension": ".py",
   "mimetype": "text/x-python",
   "name": "python",
   "nbconvert_exporter": "python",
   "pygments_lexer": "ipython3",
   "version": "3.10.4"
  }
 },
 "nbformat": 4,
 "nbformat_minor": 5
}
